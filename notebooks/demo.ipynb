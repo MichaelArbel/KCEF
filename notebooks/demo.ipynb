{
 "cells": [
  {
   "cell_type": "markdown",
   "metadata": {},
   "source": [
    "# Kernel Conditional Exponential Family"
   ]
  },
  {
   "cell_type": "markdown",
   "metadata": {},
   "source": [
    "AISTATS 2018 paper by Michael Arbel and Arthur Gretton. https://arxiv.org/abs/1711.05363\n",
    "\n",
    "Short demo of the code accompanying the paper, found at https://github.com/MichaelArbel/KCEF."
   ]
  },
  {
   "cell_type": "markdown",
   "metadata": {},
   "source": [
    "## Importing required modules"
   ]
  },
  {
   "cell_type": "code",
   "execution_count": 1,
   "metadata": {
    "collapsed": true
   },
   "outputs": [],
   "source": [
    "import numpy as np\n",
    "import os\n",
    "import matplotlib.pyplot as plt\n",
    "%matplotlib inline\n",
    "\n",
    "from KCEF.estimators.kcef import KCEF_Gaussian\n",
    "from KCEF.data_generator import FromFileGenerator\n",
    "from KCEF.tools import median_heuristic"
   ]
  },
  {
   "cell_type": "markdown",
   "metadata": {},
   "source": [
    "## Loading data"
   ]
  },
  {
   "cell_type": "code",
   "execution_count": 2,
   "metadata": {
    "collapsed": true
   },
   "outputs": [],
   "source": [
    "dataset_name \t= \"../data/red_wine.npy\" \n",
    "gen = FromFileGenerator(dataset_name)\n",
    "train_data \t\t= gen.generate(N = -1,dataset_type = 'train')\n",
    "test_data \t\t= gen.generate(N = -1, dataset_type = 'test')\n",
    "_, d = train_data.shape"
   ]
  },
  {
   "cell_type": "markdown",
   "metadata": {},
   "source": [
    "## Building the estimator"
   ]
  },
  {
   "cell_type": "markdown",
   "metadata": {},
   "source": [
    "The graph of conditional dependences can be given manually as a list of nodes. Each node contains two lists:  node[0] is the list of indices for the variable $Y$ while node[1] is the list of indices for $X$. The estimator will then estimate the conditional density of $Y$ given $X$ for each node in the graph.\n",
    "\n",
    "Setting graph_type to either 'full', 'markov' or 'marginal' and graph to None, will build the graphs used in the paper."
   ]
  },
  {
   "cell_type": "code",
   "execution_count": 9,
   "metadata": {},
   "outputs": [],
   "source": [
    "graph = [[[5], []],[[6], [5]]]\n",
    "est \t= KCEF_Gaussian(graph_type = 'custom', d = d, graph = [[[5], []],[[6], [5]]])"
   ]
  },
  {
   "cell_type": "markdown",
   "metadata": {},
   "source": [
    "## Optimizing the hyperparameters"
   ]
  },
  {
   "cell_type": "markdown",
   "metadata": {},
   "source": [
    "Minimizes the cross-validated score over the hyperparamters.\n",
    "This step can be skiped, as the optimal hyperparameters are saved in the file: 'optimal_params.npy'. Please uncomment the first line to run the optimization."
   ]
  },
  {
   "cell_type": "code",
   "execution_count": 15,
   "metadata": {},
   "outputs": [],
   "source": [
    "#res = est.optimize_cv_score(train_data)\n",
    "#np.save('../data/optimal_params', res)\n",
    "res = np.load('../data/optimal_params.npy')\n",
    "est.update_parameters(res)"
   ]
  },
  {
   "cell_type": "markdown",
   "metadata": {},
   "source": [
    "## Fitting the estimator"
   ]
  },
  {
   "cell_type": "code",
   "execution_count": 16,
   "metadata": {
    "collapsed": true
   },
   "outputs": [],
   "source": [
    "est.fit(train_data)"
   ]
  },
  {
   "cell_type": "markdown",
   "metadata": {},
   "source": [
    "## Sampling from the KCEF"
   ]
  },
  {
   "cell_type": "markdown",
   "metadata": {},
   "source": [
    "Sampling is performed using ancestral sampling."
   ]
  },
  {
   "cell_type": "code",
   "execution_count": null,
   "metadata": {},
   "outputs": [],
   "source": [
    "samples = est.sample(100)"
   ]
  },
  {
   "cell_type": "markdown",
   "metadata": {},
   "source": [
    "We plot the samples "
   ]
  },
  {
   "cell_type": "code",
   "execution_count": null,
   "metadata": {},
   "outputs": [],
   "source": [
    "plt.scatter(train_data[:,graph[1][1]], train_data[:,graph[1][0]], color = 'k')\n",
    "plt.scatter(samples[:,0], samples[:,1], color = 'r')\n"
   ]
  }
 ],
 "metadata": {
  "kernelspec": {
   "display_name": "Python 2",
   "language": "python",
   "name": "python2"
  },
  "language_info": {
   "codemirror_mode": {
    "name": "ipython",
    "version": 2
   },
   "file_extension": ".py",
   "mimetype": "text/x-python",
   "name": "python",
   "nbconvert_exporter": "python",
   "pygments_lexer": "ipython2",
   "version": "2.7.13"
  }
 },
 "nbformat": 4,
 "nbformat_minor": 2
}
