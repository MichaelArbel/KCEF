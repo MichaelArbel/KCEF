{
  "nbformat": 4,
  "nbformat_minor": 0,
  "metadata": {
    "colab": {
      "name": "KL estimation.ipynb",
      "provenance": [],
      "collapsed_sections": [],
      "toc_visible": true,
      "include_colab_link": true
    },
    "kernelspec": {
      "name": "python3",
      "display_name": "Python 3"
    },
    "accelerator": "GPU"
  },
  "cells": [
    {
      "cell_type": "markdown",
      "metadata": {
        "id": "view-in-github",
        "colab_type": "text"
      },
      "source": [
        "<a href=\"https://colab.research.google.com/github/MichaelArbel/KCEF/blob/master/KL_estimation.ipynb\" target=\"_parent\"><img src=\"https://colab.research.google.com/assets/colab-badge.svg\" alt=\"Open In Colab\"/></a>"
      ]
    },
    {
      "cell_type": "code",
      "metadata": {
        "id": "L4X5NPM-6kFc",
        "colab_type": "code",
        "outputId": "5249e256-dbec-4a01-d579-257f7971be15",
        "colab": {
          "base_uri": "https://localhost:8080/",
          "height": 701
        }
      },
      "source": [
        "!pip install dm-sonnet==2.0.0b0 gast==0.2.2 tqdm\n",
        "!pip install -q seaborn -U\n",
        "!pip install --upgrade tensorflow-probability"
      ],
      "execution_count": 0,
      "outputs": [
        {
          "output_type": "stream",
          "text": [
            "Collecting dm-sonnet==2.0.0b0\n",
            "\u001b[?25l  Downloading https://files.pythonhosted.org/packages/ff/bf/002901d61d04be4bb7d14964c70e68322a81174aa0c31b04b2cdfa9473fe/dm_sonnet-2.0.0b0-py3-none-any.whl (905kB)\n",
            "\r\u001b[K     |▍                               | 10kB 19.6MB/s eta 0:00:01\r\u001b[K     |▊                               | 20kB 2.8MB/s eta 0:00:01\r\u001b[K     |█                               | 30kB 4.1MB/s eta 0:00:01\r\u001b[K     |█▌                              | 40kB 2.8MB/s eta 0:00:01\r\u001b[K     |█▉                              | 51kB 3.5MB/s eta 0:00:01\r\u001b[K     |██▏                             | 61kB 4.1MB/s eta 0:00:01\r\u001b[K     |██▌                             | 71kB 4.8MB/s eta 0:00:01\r\u001b[K     |███                             | 81kB 5.4MB/s eta 0:00:01\r\u001b[K     |███▎                            | 92kB 6.0MB/s eta 0:00:01\r\u001b[K     |███▋                            | 102kB 4.6MB/s eta 0:00:01\r\u001b[K     |████                            | 112kB 4.6MB/s eta 0:00:01\r\u001b[K     |████▍                           | 122kB 4.6MB/s eta 0:00:01\r\u001b[K     |████▊                           | 133kB 4.6MB/s eta 0:00:01\r\u001b[K     |█████                           | 143kB 4.6MB/s eta 0:00:01\r\u001b[K     |█████▍                          | 153kB 4.6MB/s eta 0:00:01\r\u001b[K     |█████▉                          | 163kB 4.6MB/s eta 0:00:01\r\u001b[K     |██████▏                         | 174kB 4.6MB/s eta 0:00:01\r\u001b[K     |██████▌                         | 184kB 4.6MB/s eta 0:00:01\r\u001b[K     |██████▉                         | 194kB 4.6MB/s eta 0:00:01\r\u001b[K     |███████▎                        | 204kB 4.6MB/s eta 0:00:01\r\u001b[K     |███████▋                        | 215kB 4.6MB/s eta 0:00:01\r\u001b[K     |████████                        | 225kB 4.6MB/s eta 0:00:01\r\u001b[K     |████████▎                       | 235kB 4.6MB/s eta 0:00:01\r\u001b[K     |████████▊                       | 245kB 4.6MB/s eta 0:00:01\r\u001b[K     |█████████                       | 256kB 4.6MB/s eta 0:00:01\r\u001b[K     |█████████▍                      | 266kB 4.6MB/s eta 0:00:01\r\u001b[K     |█████████▊                      | 276kB 4.6MB/s eta 0:00:01\r\u001b[K     |██████████▏                     | 286kB 4.6MB/s eta 0:00:01\r\u001b[K     |██████████▌                     | 296kB 4.6MB/s eta 0:00:01\r\u001b[K     |██████████▉                     | 307kB 4.6MB/s eta 0:00:01\r\u001b[K     |███████████▏                    | 317kB 4.6MB/s eta 0:00:01\r\u001b[K     |███████████▋                    | 327kB 4.6MB/s eta 0:00:01\r\u001b[K     |████████████                    | 337kB 4.6MB/s eta 0:00:01\r\u001b[K     |████████████▎                   | 348kB 4.6MB/s eta 0:00:01\r\u001b[K     |████████████▊                   | 358kB 4.6MB/s eta 0:00:01\r\u001b[K     |█████████████                   | 368kB 4.6MB/s eta 0:00:01\r\u001b[K     |█████████████▍                  | 378kB 4.6MB/s eta 0:00:01\r\u001b[K     |█████████████▊                  | 389kB 4.6MB/s eta 0:00:01\r\u001b[K     |██████████████▏                 | 399kB 4.6MB/s eta 0:00:01\r\u001b[K     |██████████████▌                 | 409kB 4.6MB/s eta 0:00:01\r\u001b[K     |██████████████▉                 | 419kB 4.6MB/s eta 0:00:01\r\u001b[K     |███████████████▏                | 430kB 4.6MB/s eta 0:00:01\r\u001b[K     |███████████████▋                | 440kB 4.6MB/s eta 0:00:01\r\u001b[K     |████████████████                | 450kB 4.6MB/s eta 0:00:01\r\u001b[K     |████████████████▎               | 460kB 4.6MB/s eta 0:00:01\r\u001b[K     |████████████████▋               | 471kB 4.6MB/s eta 0:00:01\r\u001b[K     |█████████████████               | 481kB 4.6MB/s eta 0:00:01\r\u001b[K     |█████████████████▍              | 491kB 4.6MB/s eta 0:00:01\r\u001b[K     |█████████████████▊              | 501kB 4.6MB/s eta 0:00:01\r\u001b[K     |██████████████████              | 512kB 4.6MB/s eta 0:00:01\r\u001b[K     |██████████████████▌             | 522kB 4.6MB/s eta 0:00:01\r\u001b[K     |██████████████████▉             | 532kB 4.6MB/s eta 0:00:01\r\u001b[K     |███████████████████▏            | 542kB 4.6MB/s eta 0:00:01\r\u001b[K     |███████████████████▌            | 552kB 4.6MB/s eta 0:00:01\r\u001b[K     |████████████████████            | 563kB 4.6MB/s eta 0:00:01\r\u001b[K     |████████████████████▎           | 573kB 4.6MB/s eta 0:00:01\r\u001b[K     |████████████████████▋           | 583kB 4.6MB/s eta 0:00:01\r\u001b[K     |█████████████████████           | 593kB 4.6MB/s eta 0:00:01\r\u001b[K     |█████████████████████▍          | 604kB 4.6MB/s eta 0:00:01\r\u001b[K     |█████████████████████▊          | 614kB 4.6MB/s eta 0:00:01\r\u001b[K     |██████████████████████          | 624kB 4.6MB/s eta 0:00:01\r\u001b[K     |██████████████████████▍         | 634kB 4.6MB/s eta 0:00:01\r\u001b[K     |██████████████████████▉         | 645kB 4.6MB/s eta 0:00:01\r\u001b[K     |███████████████████████▏        | 655kB 4.6MB/s eta 0:00:01\r\u001b[K     |███████████████████████▌        | 665kB 4.6MB/s eta 0:00:01\r\u001b[K     |████████████████████████        | 675kB 4.6MB/s eta 0:00:01\r\u001b[K     |████████████████████████▎       | 686kB 4.6MB/s eta 0:00:01\r\u001b[K     |████████████████████████▋       | 696kB 4.6MB/s eta 0:00:01\r\u001b[K     |█████████████████████████       | 706kB 4.6MB/s eta 0:00:01\r\u001b[K     |█████████████████████████▍      | 716kB 4.6MB/s eta 0:00:01\r\u001b[K     |█████████████████████████▊      | 727kB 4.6MB/s eta 0:00:01\r\u001b[K     |██████████████████████████      | 737kB 4.6MB/s eta 0:00:01\r\u001b[K     |██████████████████████████▍     | 747kB 4.6MB/s eta 0:00:01\r\u001b[K     |██████████████████████████▉     | 757kB 4.6MB/s eta 0:00:01\r\u001b[K     |███████████████████████████▏    | 768kB 4.6MB/s eta 0:00:01\r\u001b[K     |███████████████████████████▌    | 778kB 4.6MB/s eta 0:00:01\r\u001b[K     |███████████████████████████▉    | 788kB 4.6MB/s eta 0:00:01\r\u001b[K     |████████████████████████████▎   | 798kB 4.6MB/s eta 0:00:01\r\u001b[K     |████████████████████████████▋   | 808kB 4.6MB/s eta 0:00:01\r\u001b[K     |█████████████████████████████   | 819kB 4.6MB/s eta 0:00:01\r\u001b[K     |█████████████████████████████▎  | 829kB 4.6MB/s eta 0:00:01\r\u001b[K     |█████████████████████████████▊  | 839kB 4.6MB/s eta 0:00:01\r\u001b[K     |██████████████████████████████  | 849kB 4.6MB/s eta 0:00:01\r\u001b[K     |██████████████████████████████▍ | 860kB 4.6MB/s eta 0:00:01\r\u001b[K     |██████████████████████████████▊ | 870kB 4.6MB/s eta 0:00:01\r\u001b[K     |███████████████████████████████▏| 880kB 4.6MB/s eta 0:00:01\r\u001b[K     |███████████████████████████████▌| 890kB 4.6MB/s eta 0:00:01\r\u001b[K     |███████████████████████████████▉| 901kB 4.6MB/s eta 0:00:01\r\u001b[K     |████████████████████████████████| 911kB 4.6MB/s \n",
            "\u001b[?25hRequirement already satisfied: gast==0.2.2 in /usr/local/lib/python3.6/dist-packages (0.2.2)\n",
            "Requirement already satisfied: tqdm in /usr/local/lib/python3.6/dist-packages (4.28.1)\n",
            "Requirement already satisfied: absl-py>=0.7.1 in /usr/local/lib/python3.6/dist-packages (from dm-sonnet==2.0.0b0) (0.8.1)\n",
            "Requirement already satisfied: wrapt>=1.11.1 in /usr/local/lib/python3.6/dist-packages (from dm-sonnet==2.0.0b0) (1.11.2)\n",
            "Requirement already satisfied: six>=1.12.0 in /usr/local/lib/python3.6/dist-packages (from dm-sonnet==2.0.0b0) (1.12.0)\n",
            "Requirement already satisfied: numpy>=1.16.3 in /usr/local/lib/python3.6/dist-packages (from dm-sonnet==2.0.0b0) (1.17.4)\n",
            "\u001b[31mERROR: graph-nets 1.0.5 has requirement dm-sonnet<2, but you'll have dm-sonnet 2.0.0b0 which is incompatible.\u001b[0m\n",
            "Installing collected packages: dm-sonnet\n",
            "  Found existing installation: dm-sonnet 1.35\n",
            "    Uninstalling dm-sonnet-1.35:\n",
            "      Successfully uninstalled dm-sonnet-1.35\n",
            "Successfully installed dm-sonnet-2.0.0b0\n",
            "Collecting tensorflow-probability\n",
            "\u001b[?25l  Downloading https://files.pythonhosted.org/packages/f8/72/29ef1e5f386b65544d4e7002dfeca1e55b099ed182cd6d405c21a19ae259/tensorflow_probability-0.8.0-py2.py3-none-any.whl (2.5MB)\n",
            "\u001b[K     |████████████████████████████████| 2.5MB 4.9MB/s \n",
            "\u001b[?25hRequirement already satisfied, skipping upgrade: gast<0.3,>=0.2 in /usr/local/lib/python3.6/dist-packages (from tensorflow-probability) (0.2.2)\n",
            "Requirement already satisfied, skipping upgrade: decorator in /usr/local/lib/python3.6/dist-packages (from tensorflow-probability) (4.4.1)\n",
            "Requirement already satisfied, skipping upgrade: six>=1.10.0 in /usr/local/lib/python3.6/dist-packages (from tensorflow-probability) (1.12.0)\n",
            "Collecting cloudpickle==1.1.1\n",
            "  Downloading https://files.pythonhosted.org/packages/24/fb/4f92f8c0f40a0d728b4f3d5ec5ff84353e705d8ff5e3e447620ea98b06bd/cloudpickle-1.1.1-py2.py3-none-any.whl\n",
            "Requirement already satisfied, skipping upgrade: numpy>=1.13.3 in /usr/local/lib/python3.6/dist-packages (from tensorflow-probability) (1.17.4)\n",
            "\u001b[31mERROR: tensor2tensor 1.14.1 has requirement tensorflow-probability==0.7.0, but you'll have tensorflow-probability 0.8.0 which is incompatible.\u001b[0m\n",
            "\u001b[31mERROR: gym 0.15.4 has requirement cloudpickle~=1.2.0, but you'll have cloudpickle 1.1.1 which is incompatible.\u001b[0m\n",
            "Installing collected packages: cloudpickle, tensorflow-probability\n",
            "  Found existing installation: cloudpickle 1.2.2\n",
            "    Uninstalling cloudpickle-1.2.2:\n",
            "      Successfully uninstalled cloudpickle-1.2.2\n",
            "  Found existing installation: tensorflow-probability 0.7.0\n",
            "    Uninstalling tensorflow-probability-0.7.0:\n",
            "      Successfully uninstalled tensorflow-probability-0.7.0\n",
            "Successfully installed cloudpickle-1.1.1 tensorflow-probability-0.8.0\n"
          ],
          "name": "stdout"
        },
        {
          "output_type": "display_data",
          "data": {
            "application/vnd.colab-display-data+json": {
              "pip_warning": {
                "packages": [
                  "cloudpickle"
                ]
              }
            }
          },
          "metadata": {
            "tags": []
          }
        }
      ]
    },
    {
      "cell_type": "code",
      "metadata": {
        "id": "H2ubzO_nCFsd",
        "colab_type": "code",
        "outputId": "4083a3ca-1b4c-4994-dc0e-58d66f2c3174",
        "colab": {
          "base_uri": "https://localhost:8080/",
          "height": 34
        }
      },
      "source": [
        "%tensorflow_version 2.x"
      ],
      "execution_count": 0,
      "outputs": [
        {
          "output_type": "stream",
          "text": [
            "TensorFlow 2.x selected.\n"
          ],
          "name": "stdout"
        }
      ]
    },
    {
      "cell_type": "code",
      "metadata": {
        "id": "rw8FIuo4B4jT",
        "colab_type": "code",
        "colab": {}
      },
      "source": [
        "import sys\n",
        "assert sys.version_info >= (3, 6), \"Sonnet 2 requires Python >=3.6\""
      ],
      "execution_count": 0,
      "outputs": []
    },
    {
      "cell_type": "code",
      "metadata": {
        "id": "PJOkau1P6mk1",
        "colab_type": "code",
        "colab": {}
      },
      "source": [
        "from __future__ import absolute_import\n",
        "from __future__ import division\n",
        "from __future__ import print_function\n",
        "\n",
        "import math\n",
        "\n",
        "import tensorflow as tf\n",
        "import sonnet as snt\n",
        "\n",
        "import numpy as np\n",
        "\n",
        "# Plotting library.\n",
        "from matplotlib import pyplot as plt\n",
        "import seaborn as sns\n",
        "\n",
        "import tensorflow_probability as tfp\n",
        "import bisect\n",
        "\n",
        "tfd = tfp.distributions\n",
        "tfb = tfp.bijectors\n",
        "from enum import Enum\n",
        "\n",
        "from collections.abc import Iterable"
      ],
      "execution_count": 0,
      "outputs": []
    },
    {
      "cell_type": "code",
      "metadata": {
        "id": "w9drwZK7B75v",
        "colab_type": "code",
        "outputId": "131049e0-4bd0-4795-f2ff-945b88ea35c8",
        "colab": {
          "base_uri": "https://localhost:8080/",
          "height": 68
        }
      },
      "source": [
        "print(\"TensorFlow version: {}\".format(tf.__version__))\n",
        "print(\"    Sonnet version: {}\".format(snt.__version__))\n",
        "print(\"    Tfp version: {}\".format(tfp.__version__))"
      ],
      "execution_count": 0,
      "outputs": [
        {
          "output_type": "stream",
          "text": [
            "TensorFlow version: 2.0.0\n",
            "    Sonnet version: 2.0.0b0\n",
            "    Tfp version: 0.8.0\n"
          ],
          "name": "stdout"
        }
      ]
    },
    {
      "cell_type": "code",
      "metadata": {
        "id": "kLU3973S6p-y",
        "colab_type": "code",
        "colab": {}
      },
      "source": [
        "sns.set(rc={\"lines.linewidth\": 2.8}, font_scale=2)\n",
        "sns.set_style(\"whitegrid\")"
      ],
      "execution_count": 0,
      "outputs": []
    },
    {
      "cell_type": "code",
      "metadata": {
        "id": "C30mEXQn6q6H",
        "colab_type": "code",
        "outputId": "d8432449-da54-4d62-f53f-4fa6185c0267",
        "colab": {
          "base_uri": "https://localhost:8080/",
          "height": 34
        }
      },
      "source": [
        "# Don't forget to select GPU runtime environment in Runtime -> Change runtime type\n",
        "device_name = tf.test.gpu_device_name()\n",
        "if device_name != '/device:GPU:0':\n",
        "  raise SystemError('GPU device not found')\n",
        "print('Found GPU at: {}'.format(device_name))"
      ],
      "execution_count": 0,
      "outputs": [
        {
          "output_type": "stream",
          "text": [
            "Found GPU at: /device:GPU:0\n"
          ],
          "name": "stdout"
        }
      ]
    },
    {
      "cell_type": "markdown",
      "metadata": {
        "id": "zdcks20O6r-1",
        "colab_type": "text"
      },
      "source": [
        "## Define the distributions"
      ]
    },
    {
      "cell_type": "code",
      "metadata": {
        "id": "ne9sjDws6v0h",
        "colab_type": "code",
        "colab": {}
      },
      "source": [
        "dist1 = tfd.Normal(0, 1)\n",
        "dist2 = tfd.Normal(5, 10)"
      ],
      "execution_count": 0,
      "outputs": []
    },
    {
      "cell_type": "code",
      "metadata": {
        "id": "jxd9BZqj63SF",
        "colab_type": "code",
        "colab": {}
      },
      "source": [
        "true_kl = dist1.kl_divergence(dist2)"
      ],
      "execution_count": 0,
      "outputs": []
    },
    {
      "cell_type": "code",
      "metadata": {
        "id": "C6lh-zSo7XTI",
        "colab_type": "code",
        "outputId": "5a09f99f-281f-45df-974e-e8334f57b8e0",
        "colab": {
          "base_uri": "https://localhost:8080/",
          "height": 34
        }
      },
      "source": [
        "print(true_kl.numpy())"
      ],
      "execution_count": 0,
      "outputs": [
        {
          "output_type": "stream",
          "text": [
            "1.9325851\n"
          ],
          "name": "stdout"
        }
      ]
    },
    {
      "cell_type": "markdown",
      "metadata": {
        "id": "0sqFtcMAA6Q7",
        "colab_type": "text"
      },
      "source": [
        "## Plot base distributions"
      ]
    },
    {
      "cell_type": "code",
      "metadata": {
        "id": "EvpH_Qf4A7_T",
        "colab_type": "code",
        "outputId": "64142639-db2a-4295-e079-6e78c3a266b1",
        "colab": {
          "base_uri": "https://localhost:8080/",
          "height": 295
        }
      },
      "source": [
        "a = np.arange(-10, 10, 0.01)\n",
        "\n",
        "plt.plot(a, dist1.prob(a), label='P')\n",
        "plt.plot(a, dist2.prob(a), label='Q')\n",
        "plt.legend()"
      ],
      "execution_count": 0,
      "outputs": [
        {
          "output_type": "execute_result",
          "data": {
            "text/plain": [
              "<matplotlib.legend.Legend at 0x7f18c4572c88>"
            ]
          },
          "metadata": {
            "tags": []
          },
          "execution_count": 11
        },
        {
          "output_type": "display_data",
          "data": {
            "image/png": "[encoded data removed]",
            "text/plain": [
              "<Figure size 432x288 with 1 Axes>"
            ]
          },
          "metadata": {
            "tags": []
          }
        }
      ]
    },
    {
      "cell_type": "markdown",
      "metadata": {
        "id": "vlM8_STV6uGz",
        "colab_type": "text"
      },
      "source": [
        "## Distributional transforms"
      ]
    },
    {
      "cell_type": "markdown",
      "metadata": {
        "id": "qlo317Ez2gL5",
        "colab_type": "text"
      },
      "source": [
        "## Flows "
      ]
    },
    {
      "cell_type": "code",
      "metadata": {
        "id": "D7Wf5p6JI-bF",
        "colab_type": "code",
        "colab": {}
      },
      "source": [
        "class SplineParams(object):\n",
        "\n",
        "  def __init__(self, nbins=32, range_min=-5, num_units=1, name='SplineParams'):\n",
        "    self._nbins = nbins\n",
        "    self._built = False\n",
        "    self._num_units = num_units\n",
        "    self._range_min = range_min\n",
        "    self._bin_widths = None\n",
        "    self._bin_heights = None\n",
        "    self._knot_slopes = None\n",
        "\n",
        "  def _bin_positions(self, x):\n",
        "    x = tf.reshape(x, [-1, self._nbins])\n",
        "    size = 2 * np.abs(self._range_min)\n",
        "    return tf.math.softmax(x, axis=-1) * (size - self._nbins * 1e-2) + 1e-2\n",
        "\n",
        "  def _slopes(self, x):\n",
        "    x = tf.reshape(x, [-1, self._nbins - 1])\n",
        "    return tf.math.softplus(x) + 1e-2\n",
        "\n",
        "  def _initialize(self):\n",
        "    # Random spline initialization.\n",
        "    self._bin_widths = self._bin_positions(\n",
        "        tf.random.uniform((self._num_units, self._nbins), minval=0, maxval=1.))\n",
        "    self._bin_heights = self._bin_positions(\n",
        "        tf.random.uniform((self._num_units, self._nbins), minval=0, maxval=1.))\n",
        "    self._knot_slopes = self._slopes(\n",
        "        tf.random.uniform((self._num_units, self._nbins -1), minval=-1, maxval=5.))\n",
        "    \n",
        "  def __call__(self):\n",
        "    self._initialize()\n",
        "    return tfb.RationalQuadraticSpline(\n",
        "        bin_widths=self._bin_widths,\n",
        "        bin_heights=self._bin_heights,\n",
        "        knot_slopes=self._knot_slopes,\n",
        "        range_min=self._range_min,\n",
        "        validate_args=True)\n",
        "\n"
      ],
      "execution_count": 0,
      "outputs": []
    },
    {
      "cell_type": "code",
      "metadata": {
        "id": "tBmiYkLPIfx8",
        "colab_type": "code",
        "colab": {}
      },
      "source": [
        "def random_spline_flow_stack(layers=13):\n",
        "  chain = []\n",
        "  for _ in range(layers):\n",
        "    chain.append(SplineParams()())\n",
        "  \n",
        "  stack = tfp.bijectors.Chain(chain)\n",
        "  return stack"
      ],
      "execution_count": 0,
      "outputs": []
    },
    {
      "cell_type": "code",
      "metadata": {
        "id": "p_AuAfikJlhH",
        "colab_type": "code",
        "colab": {}
      },
      "source": [
        "id_transform = tfp.bijectors.Identity()\n",
        "flow_transform = random_spline_flow_stack()"
      ],
      "execution_count": 0,
      "outputs": []
    },
    {
      "cell_type": "code",
      "metadata": {
        "id": "VXpWrZOjWZ1N",
        "colab_type": "code",
        "outputId": "a136075b-6acc-481c-98da-88df3fcbb2d3",
        "colab": {
          "base_uri": "https://localhost:8080/",
          "height": 34
        }
      },
      "source": [
        "stack = flow_transform\n",
        "xs = dist1.sample((10, 1))\n",
        "\n",
        "ys = stack.forward(xs)\n",
        "xs_hat = stack.inverse(ys)\n",
        "assert xs_hat.shape == xs.shape\n",
        "# Check what we built is actually a flow.\n",
        "np.allclose(xs, xs_hat)"
      ],
      "execution_count": 0,
      "outputs": [
        {
          "output_type": "execute_result",
          "data": {
            "text/plain": [
              "True"
            ]
          },
          "metadata": {
            "tags": []
          },
          "execution_count": 78
        }
      ]
    },
    {
      "cell_type": "markdown",
      "metadata": {
        "id": "PT6ukpEX--rN",
        "colab_type": "text"
      },
      "source": [
        "## Scrambled transforms"
      ]
    },
    {
      "cell_type": "code",
      "metadata": {
        "id": "LENQtX7Z_BNi",
        "colab_type": "code",
        "colab": {}
      },
      "source": [
        "class ScrambledTransform(tfb.bijector.Bijector):\n",
        "\n",
        "  def __init__(self, range_min, nbins):\n",
        "    self._range_min = range_min\n",
        "    self._nbins = nbins\n",
        "\n",
        "    self._x_bins = self._bins()\n",
        "    y_bins = self._bins()\n",
        "    y_bins = list(zip(y_bins[:-1], y_bins[1:]))\n",
        "    self._y_bins = np.random.permutation(y_bins)\n",
        "\n",
        "    super(ScrambledTransform, self).__init__(\n",
        "          dtype=tf.float32,\n",
        "          forward_min_event_ndims=0,\n",
        "          validate_args=True,\n",
        "          name=\"scrambled_transform\")\n",
        "\n",
        "  def _bins(self):\n",
        "    x = tf.random.uniform(shape=(self._nbins, ), minval=0, maxval=1)\n",
        "    size = 2 * np.abs(self._range_min)\n",
        "    b = tf.math.softmax(x, axis=-1) * (size - self._nbins * 1e-2) + 1e-2\n",
        "    b = np.cumsum(b) \n",
        "    return np.concatenate((np.zeros((1, )), b)) + self._range_min\n",
        "\n",
        "  def _one_forward_linear_params(self, x):\n",
        "    # Search for x - if outside the modelled interval, return x.\n",
        "    if x <= self._range_min or x > - self._range_min:\n",
        "      return (1, 0)\n",
        "\n",
        "    # find the x axis interval\n",
        "    x_index = bisect.bisect_left(self._x_bins, x)\n",
        "\n",
        "    assert x_index > 0, x\n",
        "    # Note: this can happen due to numerical instabilities.\n",
        "    # For example, if the last bin value is 5, \n",
        "    # bisect will return len(self._x_bins) for 4.999999999991687.\n",
        "    if x_index == len(self._x_bins):\n",
        "      return (1, 0)\n",
        "\n",
        "    x1 = self._x_bins[x_index - 1]\n",
        "    x2 = self._x_bins[x_index]\n",
        "    y1, y2 = self._y_bins[x_index - 1]\n",
        "\n",
        "    a = (y1 - y2) / (x1 - x2)\n",
        "    b =  y1 - a * x1\n",
        "    return (a, b)\n",
        "\n",
        "  def _forward_linear_params(self, x):\n",
        "    if not isinstance(x, Iterable):\n",
        "      return self._one_forward_linear_params(x)\n",
        "    \n",
        "    a, b = zip(*[self._one_forward_linear_params(t) for t in x])\n",
        "    return np.array(a), np.array(b)\n",
        "\n",
        "  def __call__(self, x):\n",
        "    return self.forward(x)\n",
        "\n",
        "  def forward(self, x):\n",
        "    a, b = self._forward_linear_params(x)\n",
        "    y = a * x + b\n",
        "    assert y.shape == x.shape\n",
        "    return y\n",
        "\n",
        "  def inverse(self, y):\n",
        "    a, b = self._inverse_linear_params(y)\n",
        "    return a * y + b\n",
        "\n",
        "  def _inverse_linear_params(self, y):\n",
        "    if not isinstance(y, Iterable):\n",
        "      return self._one_inverse_linear_params(y)\n",
        "    \n",
        "    a, b = zip(*[self._one_inverse_linear_params(t) for t in y])\n",
        "    return np.array(a), np.array(b)\n",
        "\n",
        "  def _one_inverse_linear_params(self, y):\n",
        "    if y <= self._range_min or y >= - self._range_min:\n",
        "      return (1, 0)\n",
        "\n",
        "    for y_index, (y1, y2) in enumerate(self._y_bins):\n",
        "      if y1 <= y and y < y2:\n",
        "        break\n",
        "\n",
        "    x1 = self._x_bins[y_index]\n",
        "    x2 = self._x_bins[y_index + 1]\n",
        "    a = (y1 - y2) / (x1 - x2)\n",
        "    b =  y1 - a * x1\n",
        "    return (1./ a, - b/a)\n",
        "\n",
        "  def _forward_log_det_jacobian(self, x):\n",
        "     slope = self._forward_linear_params(x)[1]\n",
        "     return tf.math.log(tf.abs(slope))\n",
        "\n",
        "  def _inverse_log_det_jacobian(self, y):\n",
        "     slope = self._inverse_linear_params(y)[1]\n",
        "     return tf.math.log(tf.abs(slope))\n"
      ],
      "execution_count": 0,
      "outputs": []
    },
    {
      "cell_type": "code",
      "metadata": {
        "id": "fNSTHj6sC7SO",
        "colab_type": "code",
        "colab": {}
      },
      "source": [
        "scrambled_transform = ScrambledTransform(-5, 30)"
      ],
      "execution_count": 0,
      "outputs": []
    },
    {
      "cell_type": "markdown",
      "metadata": {
        "id": "_Oq586VECiGJ",
        "colab_type": "text"
      },
      "source": [
        "### Check scrambled transform is invertible"
      ]
    },
    {
      "cell_type": "code",
      "metadata": {
        "id": "_iSChNC5873J",
        "colab_type": "code",
        "outputId": "86ce7370-5306-494d-c6e0-1d1fa0af06b4",
        "colab": {
          "base_uri": "https://localhost:8080/",
          "height": 34
        }
      },
      "source": [
        "xs = dist1.sample((1000, 1))\n",
        "xs = np.arange(-10, 10, 0.001)\n",
        "ys = scrambled_transform.forward(xs)\n",
        "xs_hat = scrambled_transform.inverse(ys)\n",
        "\n",
        "print(np.isclose(xs, xs_hat))\n",
        "assert np.allclose(xs, xs_hat)"
      ],
      "execution_count": 0,
      "outputs": [
        {
          "output_type": "stream",
          "text": [
            "[ True  True  True ...  True  True  True]\n"
          ],
          "name": "stdout"
        }
      ]
    },
    {
      "cell_type": "markdown",
      "metadata": {
        "id": "sGNsPcraaEDa",
        "colab_type": "text"
      },
      "source": [
        "## Choose and plot transform"
      ]
    },
    {
      "cell_type": "code",
      "metadata": {
        "id": "uSjiG7YEaRcC",
        "colab_type": "code",
        "colab": {}
      },
      "source": [
        "transform = id_transform\n",
        "transform = flow_transform\n",
        "transform = scrambled_transform"
      ],
      "execution_count": 0,
      "outputs": []
    },
    {
      "cell_type": "code",
      "metadata": {
        "id": "lqtkDnKTaDMW",
        "colab_type": "code",
        "outputId": "acaeb12a-52ad-4437-de14-b675efa2276b",
        "colab": {
          "base_uri": "https://localhost:8080/",
          "height": 295
        }
      },
      "source": [
        "x = np.linspace(-5, 5, 1000)\n",
        "y = transform.forward(x)\n",
        "assert x.shape == y.shape\n",
        "plt.plot(x, y, '.')"
      ],
      "execution_count": 0,
      "outputs": [
        {
          "output_type": "execute_result",
          "data": {
            "text/plain": [
              "[<matplotlib.lines.Line2D at 0x7f1d66c1e630>]"
            ]
          },
          "metadata": {
            "tags": []
          },
          "execution_count": 29
        },
        {
          "output_type": "display_data",
          "data": {
            "image/png": "[encoded data removed]",
            "text/plain": [
              "<Figure size 432x288 with 1 Axes>"
            ]
          },
          "metadata": {
            "tags": []
          }
        }
      ]
    },
    {
      "cell_type": "code",
      "metadata": {
        "id": "8kfG5PKMPVoY",
        "colab_type": "code",
        "outputId": "af459aa8-6093-4948-945d-c68a52292978",
        "colab": {
          "base_uri": "https://localhost:8080/",
          "height": 295
        }
      },
      "source": [
        "x = np.linspace(-5, 5, 1000)\n",
        "y = transform.inverse(x)\n",
        "plt.plot(x, y, '.')"
      ],
      "execution_count": 0,
      "outputs": [
        {
          "output_type": "execute_result",
          "data": {
            "text/plain": [
              "[<matplotlib.lines.Line2D at 0x7f7c252bda58>]"
            ]
          },
          "metadata": {
            "tags": []
          },
          "execution_count": 206
        },
        {
          "output_type": "display_data",
          "data": {
            "image/png": "[encoded data removed]",
            "text/plain": [
              "<Figure size 432x288 with 1 Axes>"
            ]
          },
          "metadata": {
            "tags": []
          }
        }
      ]
    },
    {
      "cell_type": "markdown",
      "metadata": {
        "id": "_qePwYNL4qA_",
        "colab_type": "text"
      },
      "source": [
        "## Construct the transform distributions"
      ]
    },
    {
      "cell_type": "code",
      "metadata": {
        "id": "LBX12uoM4qTv",
        "colab_type": "code",
        "colab": {}
      },
      "source": [
        "transformed_dist1 = tfd.TransformedDistribution(dist1, bijector=transform)\n",
        "transformed_dist2 = tfd.TransformedDistribution(dist2, bijector=transform)"
      ],
      "execution_count": 0,
      "outputs": []
    },
    {
      "cell_type": "markdown",
      "metadata": {
        "id": "riHF7r3O8Dhe",
        "colab_type": "text"
      },
      "source": [
        "# Estimating KL divergences"
      ]
    },
    {
      "cell_type": "markdown",
      "metadata": {
        "id": "kkso9e-c36FI",
        "colab_type": "text"
      },
      "source": [
        "## Monte Carlo\n",
        "\n",
        "First to Monte Carlo estimation for the KL."
      ]
    },
    {
      "cell_type": "code",
      "metadata": {
        "id": "WLRbarUz32ia",
        "colab_type": "code",
        "colab": {}
      },
      "source": [
        "def monte_carlo_estimation(d1, d2, num_samples=10000):\n",
        "  s = d1.sample(num_samples)\n",
        "  return tf.reduce_mean(d1.log_prob(s) - d2.log_prob(s))"
      ],
      "execution_count": 0,
      "outputs": []
    },
    {
      "cell_type": "markdown",
      "metadata": {
        "id": "4M24YE-U60YA",
        "colab_type": "text"
      },
      "source": [
        "### Check out the value of the Monte Carlo estimation of the KL"
      ]
    },
    {
      "cell_type": "code",
      "metadata": {
        "id": "krmKWfUe6mV5",
        "colab_type": "code",
        "outputId": "2a9140b3-a741-4544-9cfb-83880b065f4f",
        "colab": {
          "base_uri": "https://localhost:8080/",
          "height": 68
        }
      },
      "source": [
        "print(true_kl)\n",
        "print(monte_carlo_estimation(dist1, dist2))\n",
        "print(monte_carlo_estimation(transformed_dist1, transformed_dist2))"
      ],
      "execution_count": 0,
      "outputs": [
        {
          "output_type": "stream",
          "text": [
            "tf.Tensor(1.9325851, shape=(), dtype=float32)\n",
            "tf.Tensor(1.926148, shape=(), dtype=float32)\n",
            "tf.Tensor(1.9301856, shape=(), dtype=float32)\n"
          ],
          "name": "stdout"
        }
      ]
    },
    {
      "cell_type": "markdown",
      "metadata": {
        "id": "n4MQQcBP8Hsn",
        "colab_type": "text"
      },
      "source": [
        "## Critic"
      ]
    },
    {
      "cell_type": "code",
      "metadata": {
        "id": "9Qmba7sA8HBU",
        "colab_type": "code",
        "colab": {}
      },
      "source": [
        "T = snt.Sequential([\n",
        "    snt.Linear(200),\n",
        "    tf.nn.relu,\n",
        "    snt.Linear(200),\n",
        "    tf.nn.relu,\n",
        "    snt.Linear(1),\n",
        "])"
      ],
      "execution_count": 0,
      "outputs": []
    },
    {
      "cell_type": "markdown",
      "metadata": {
        "id": "rwuQRZj08rrd",
        "colab_type": "text"
      },
      "source": [
        "## F divergence formulation"
      ]
    },
    {
      "cell_type": "code",
      "metadata": {
        "id": "eKdV_0NECYtK",
        "colab_type": "code",
        "colab": {}
      },
      "source": [
        "BATCH_SIZE = 100\n",
        "NUM_UPDATES = 1000"
      ],
      "execution_count": 0,
      "outputs": []
    },
    {
      "cell_type": "code",
      "metadata": {
        "id": "SQNtguiKBa2U",
        "colab_type": "code",
        "colab": {}
      },
      "source": [
        "opt = snt.optimizers.Adam(learning_rate=0.001)"
      ],
      "execution_count": 0,
      "outputs": []
    },
    {
      "cell_type": "code",
      "metadata": {
        "id": "-9IX-6_LGUqW",
        "colab_type": "code",
        "colab": {}
      },
      "source": [
        "def estimate_kl(sample_size):\n",
        "  d1 = T(transform(dist1.sample(sample_size)))\n",
        "  d2 = tf.exp(T(transform(dist2.sample(sample_size))))\n",
        "  return tf.reduce_mean(1 + d1 - d2)"
      ],
      "execution_count": 0,
      "outputs": []
    },
    {
      "cell_type": "code",
      "metadata": {
        "id": "GF8ePuNyBo1u",
        "colab_type": "code",
        "colab": {}
      },
      "source": [
        "def step():\n",
        "  with tf.GradientTape() as tape:\n",
        "    estimated_kl = estimate_kl((BATCH_SIZE, 1))\n",
        "    estimated_kl = tf.reduce_mean(estimated_kl)\n",
        "    loss = - estimated_kl\n",
        "    params = T.trainable_variables\n",
        "    grads = tape.gradient(loss, params)\n",
        "    opt.apply(grads, params)"
      ],
      "execution_count": 0,
      "outputs": []
    },
    {
      "cell_type": "code",
      "metadata": {
        "id": "MUmsbCTI8uhB",
        "colab_type": "code",
        "outputId": "a19c9b8a-5570-4499-957e-eed600d01cf5",
        "colab": {
          "base_uri": "https://localhost:8080/",
          "height": 1000
        }
      },
      "source": [
        "for i in range(NUM_UPDATES):\n",
        "  step()\n",
        "  if i % 10 == 0:\n",
        "    print(estimate_kl((1000, 1)))"
      ],
      "execution_count": 0,
      "outputs": [
        {
          "output_type": "stream",
          "text": [
            "tf.Tensor(-0.1269374, shape=(), dtype=float32)\n",
            "tf.Tensor(-1.58819, shape=(), dtype=float32)\n",
            "tf.Tensor(-2.0071807, shape=(), dtype=float32)\n",
            "tf.Tensor(-2.30271, shape=(), dtype=float32)\n",
            "tf.Tensor(-2.1795342, shape=(), dtype=float32)\n",
            "tf.Tensor(-2.1819625, shape=(), dtype=float32)\n",
            "tf.Tensor(-2.1069982, shape=(), dtype=float32)\n",
            "tf.Tensor(-2.1074703, shape=(), dtype=float32)\n",
            "tf.Tensor(-2.0036197, shape=(), dtype=float32)\n",
            "tf.Tensor(-1.8766478, shape=(), dtype=float32)\n",
            "tf.Tensor(-1.766824, shape=(), dtype=float32)\n",
            "tf.Tensor(-1.6063609, shape=(), dtype=float32)\n",
            "tf.Tensor(-1.4424753, shape=(), dtype=float32)\n",
            "tf.Tensor(-1.3134058, shape=(), dtype=float32)\n",
            "tf.Tensor(-1.0023471, shape=(), dtype=float32)\n",
            "tf.Tensor(-0.9270718, shape=(), dtype=float32)\n",
            "tf.Tensor(-0.9574896, shape=(), dtype=float32)\n",
            "tf.Tensor(-0.54712665, shape=(), dtype=float32)\n",
            "tf.Tensor(-0.45746773, shape=(), dtype=float32)\n",
            "tf.Tensor(-0.30399677, shape=(), dtype=float32)\n",
            "tf.Tensor(0.06304458, shape=(), dtype=float32)\n",
            "tf.Tensor(0.28314126, shape=(), dtype=float32)\n",
            "tf.Tensor(0.46253964, shape=(), dtype=float32)\n",
            "tf.Tensor(0.72840047, shape=(), dtype=float32)\n",
            "tf.Tensor(0.8795697, shape=(), dtype=float32)\n",
            "tf.Tensor(1.1331823, shape=(), dtype=float32)\n",
            "tf.Tensor(1.0051503, shape=(), dtype=float32)\n",
            "tf.Tensor(1.1208196, shape=(), dtype=float32)\n",
            "tf.Tensor(1.2287321, shape=(), dtype=float32)\n",
            "tf.Tensor(1.321705, shape=(), dtype=float32)\n",
            "tf.Tensor(1.1455518, shape=(), dtype=float32)\n",
            "tf.Tensor(1.1435081, shape=(), dtype=float32)\n",
            "tf.Tensor(1.12329, shape=(), dtype=float32)\n",
            "tf.Tensor(1.136656, shape=(), dtype=float32)\n",
            "tf.Tensor(1.1473184, shape=(), dtype=float32)\n",
            "tf.Tensor(1.1389397, shape=(), dtype=float32)\n",
            "tf.Tensor(1.1999446, shape=(), dtype=float32)\n",
            "tf.Tensor(1.3520185, shape=(), dtype=float32)\n",
            "tf.Tensor(1.2489158, shape=(), dtype=float32)\n",
            "tf.Tensor(1.1349069, shape=(), dtype=float32)\n",
            "tf.Tensor(1.153872, shape=(), dtype=float32)\n",
            "tf.Tensor(0.97451305, shape=(), dtype=float32)\n",
            "tf.Tensor(1.2656602, shape=(), dtype=float32)\n",
            "tf.Tensor(1.1747081, shape=(), dtype=float32)\n",
            "tf.Tensor(1.2731073, shape=(), dtype=float32)\n",
            "tf.Tensor(1.2644676, shape=(), dtype=float32)\n",
            "tf.Tensor(1.1424793, shape=(), dtype=float32)\n",
            "tf.Tensor(1.3188021, shape=(), dtype=float32)\n",
            "tf.Tensor(1.3198619, shape=(), dtype=float32)\n",
            "tf.Tensor(1.2631897, shape=(), dtype=float32)\n",
            "tf.Tensor(1.1218657, shape=(), dtype=float32)\n",
            "tf.Tensor(1.2869148, shape=(), dtype=float32)\n",
            "tf.Tensor(1.3425192, shape=(), dtype=float32)\n",
            "tf.Tensor(1.1393901, shape=(), dtype=float32)\n",
            "tf.Tensor(1.3017097, shape=(), dtype=float32)\n",
            "tf.Tensor(1.2173041, shape=(), dtype=float32)\n",
            "tf.Tensor(1.2352483, shape=(), dtype=float32)\n",
            "tf.Tensor(1.3725282, shape=(), dtype=float32)\n",
            "tf.Tensor(1.2516582, shape=(), dtype=float32)\n",
            "tf.Tensor(1.1912221, shape=(), dtype=float32)\n",
            "tf.Tensor(1.1833545, shape=(), dtype=float32)\n",
            "tf.Tensor(1.2908951, shape=(), dtype=float32)\n",
            "tf.Tensor(1.2482758, shape=(), dtype=float32)\n",
            "tf.Tensor(1.2739712, shape=(), dtype=float32)\n",
            "tf.Tensor(1.2283083, shape=(), dtype=float32)\n",
            "tf.Tensor(1.3355967, shape=(), dtype=float32)\n",
            "tf.Tensor(1.2276025, shape=(), dtype=float32)\n",
            "tf.Tensor(1.2166055, shape=(), dtype=float32)\n",
            "tf.Tensor(1.2782747, shape=(), dtype=float32)\n",
            "tf.Tensor(1.2634873, shape=(), dtype=float32)\n",
            "tf.Tensor(1.4040082, shape=(), dtype=float32)\n",
            "tf.Tensor(1.3428514, shape=(), dtype=float32)\n",
            "tf.Tensor(1.2188194, shape=(), dtype=float32)\n",
            "tf.Tensor(1.2941262, shape=(), dtype=float32)\n",
            "tf.Tensor(1.2490473, shape=(), dtype=float32)\n",
            "tf.Tensor(1.182369, shape=(), dtype=float32)\n",
            "tf.Tensor(1.2642181, shape=(), dtype=float32)\n",
            "tf.Tensor(1.2847798, shape=(), dtype=float32)\n",
            "tf.Tensor(1.2228957, shape=(), dtype=float32)\n",
            "tf.Tensor(1.3663255, shape=(), dtype=float32)\n",
            "tf.Tensor(1.3058738, shape=(), dtype=float32)\n",
            "tf.Tensor(1.3201008, shape=(), dtype=float32)\n",
            "tf.Tensor(1.340293, shape=(), dtype=float32)\n",
            "tf.Tensor(1.2349237, shape=(), dtype=float32)\n",
            "tf.Tensor(1.0543144, shape=(), dtype=float32)\n",
            "tf.Tensor(1.2318556, shape=(), dtype=float32)\n",
            "tf.Tensor(1.326212, shape=(), dtype=float32)\n",
            "tf.Tensor(1.3181052, shape=(), dtype=float32)\n",
            "tf.Tensor(1.2006083, shape=(), dtype=float32)\n",
            "tf.Tensor(1.3727274, shape=(), dtype=float32)\n",
            "tf.Tensor(1.3715334, shape=(), dtype=float32)\n",
            "tf.Tensor(1.2853863, shape=(), dtype=float32)\n",
            "tf.Tensor(1.2456406, shape=(), dtype=float32)\n",
            "tf.Tensor(1.2617625, shape=(), dtype=float32)\n",
            "tf.Tensor(1.3036766, shape=(), dtype=float32)\n",
            "tf.Tensor(1.3130009, shape=(), dtype=float32)\n",
            "tf.Tensor(1.3571424, shape=(), dtype=float32)\n",
            "tf.Tensor(1.2713784, shape=(), dtype=float32)\n",
            "tf.Tensor(1.3891338, shape=(), dtype=float32)\n",
            "tf.Tensor(1.2294804, shape=(), dtype=float32)\n"
          ],
          "name": "stdout"
        }
      ]
    },
    {
      "cell_type": "markdown",
      "metadata": {
        "id": "qo9_UQJvtX4N",
        "colab_type": "text"
      },
      "source": [
        "# Non bijectors transformations - same logic, just slightly different code and the inverse is not built"
      ]
    },
    {
      "cell_type": "markdown",
      "metadata": {
        "id": "1otH7Wdmte3H",
        "colab_type": "text"
      },
      "source": [
        "## Polynomial monotonic functions"
      ]
    },
    {
      "cell_type": "code",
      "metadata": {
        "id": "w0z14V8etig8",
        "colab_type": "code",
        "colab": {}
      },
      "source": [
        "def polinomial_transformation_builder(D, max_coeff_val=0.01):\n",
        "  \"\"\" Only use odd degrees to ensure everything is monotonic.\"\"\"\n",
        "  coeff = np.random.rand(D) * max_coeff_val\n",
        "  b = np.random.randn()\n",
        "\n",
        "  def transform(x):\n",
        "    power = x\n",
        "    res = b\n",
        "    for d in range(D):\n",
        "      res += power * coeff[d]\n",
        "      power = power * x **2\n",
        "\n",
        "    return res\n",
        "\n",
        "  return transform"
      ],
      "execution_count": 0,
      "outputs": []
    },
    {
      "cell_type": "code",
      "metadata": {
        "id": "b9RLXaWWyNzK",
        "colab_type": "code",
        "colab": {}
      },
      "source": [
        "polinomial_transformation = polinomial_transformation_builder(3)"
      ],
      "execution_count": 0,
      "outputs": []
    },
    {
      "cell_type": "code",
      "metadata": {
        "id": "PdcvtRl4ys4c",
        "colab_type": "code",
        "outputId": "40f9e08f-595d-4fa1-fff3-9e7849ee91df",
        "colab": {
          "base_uri": "https://localhost:8080/",
          "height": 34
        }
      },
      "source": [
        "polinomial_transformation(-1)"
      ],
      "execution_count": 0,
      "outputs": [
        {
          "output_type": "execute_result",
          "data": {
            "text/plain": [
              "-1.0536866861788359"
            ]
          },
          "metadata": {
            "tags": []
          },
          "execution_count": 169
        }
      ]
    },
    {
      "cell_type": "code",
      "metadata": {
        "id": "Y4GTjckM2JTB",
        "colab_type": "code",
        "outputId": "260e161a-b192-47de-ecb8-7b22acf55464",
        "colab": {
          "base_uri": "https://localhost:8080/",
          "height": 34
        }
      },
      "source": [
        "polinomial_transformation(-4.95)"
      ],
      "execution_count": 0,
      "outputs": [
        {
          "output_type": "execute_result",
          "data": {
            "text/plain": [
              "-6.440746755521486"
            ]
          },
          "metadata": {
            "tags": []
          },
          "execution_count": 170
        }
      ]
    },
    {
      "cell_type": "code",
      "metadata": {
        "id": "qCAHFNHsycQe",
        "colab_type": "code",
        "outputId": "ec0d67f4-daaf-4787-cc3f-51b6af2ee276",
        "colab": {
          "base_uri": "https://localhost:8080/",
          "height": 329
        }
      },
      "source": [
        "x = np.linspace(-20, 20, 1000)\n",
        "y = polinomial_transformation(x)\n",
        "print(y.shape)\n",
        "print(x.shape)\n",
        "assert x.shape == y.shape\n",
        "plt.plot(x, y, '.')"
      ],
      "execution_count": 0,
      "outputs": [
        {
          "output_type": "stream",
          "text": [
            "(1000,)\n",
            "(1000,)\n"
          ],
          "name": "stdout"
        },
        {
          "output_type": "execute_result",
          "data": {
            "text/plain": [
              "[<matplotlib.lines.Line2D at 0x7f3695b0f630>]"
            ]
          },
          "metadata": {
            "tags": []
          },
          "execution_count": 171
        },
        {
          "output_type": "display_data",
          "data": {
            "image/png": "[encoded data removed]",
            "text/plain": [
              "<Figure size 432x288 with 1 Axes>"
            ]
          },
          "metadata": {
            "tags": []
          }
        }
      ]
    },
    {
      "cell_type": "markdown",
      "metadata": {
        "id": "bFD0KxUogpS_",
        "colab_type": "text"
      },
      "source": [
        "## Random monotonic function\n"
      ]
    },
    {
      "cell_type": "code",
      "metadata": {
        "id": "AWkOUgpNg27m",
        "colab_type": "code",
        "colab": {}
      },
      "source": [
        "def monotonic_fourier(x, a, b, alpha, lmbda, L):\n",
        "    # This function takes as input N vectors x of dimension d and outputs a applies a random point-wise non linearity on each dimension (x)_i  \n",
        "    # such that f(x_i) is an increasing function of x. \n",
        "    #out(x) = b + sum a_i a_j \\psi_{i,j}(x)\n",
        "    # \\psi_{i,j}(x) = sin( \\lambda_ij^- (x+L)  )/(2L \\lambda_ij^{-}) - sin( \\lambda_ij^+ (x+L)  )/(2L \\lambda_ij^{+})    \n",
        "    # This implements the procedure in : 'A non-parametric probabilistic model for monotonic functions'\n",
        "\n",
        "    # a : J x d  vecotr\n",
        "    # b : d vector \n",
        "    # x : N x d  vector\n",
        "    # out: N x d vector\n",
        "\n",
        "    # Make a copy of the input array\n",
        "    x  = np.array(x)\n",
        "    J,d = a.shape\n",
        "    # compute lmbda\n",
        "    # lmbda = 1.*np.array(range(J))+1\n",
        "    # lmbda *=np.pi/(2*L)\n",
        "    # lmbda = np.power(lmbda, alpha)\n",
        "    lmbda = (np.arange((J)) + 1) * 0.01 \n",
        "    #lmbda = abs(lmbda)\n",
        "    x += L \n",
        "    lmbda_x = np.einsum('i,nd->ind', lmbda , x )\n",
        "    a_sin_x = np.einsum('id,ind->ind',a,np.sin(lmbda_x))\n",
        "    a_cos_x = np.einsum('id,ind->ind',a,np.cos(lmbda_x))\n",
        "\n",
        "    # Denominator for Psi plus.\n",
        "    lmbda_ij_plus = np.expand_dims(lmbda,axis=0)+ np.expand_dims(lmbda,axis=1) \n",
        "    lmbda_ij_plus = 1./(lmbda_ij_plus)\n",
        "\n",
        "    # Denominator for Psi_minus.\n",
        "    lmbda_ij_minus = np.expand_dims(lmbda,axis=1) - np.expand_dims(lmbda,axis=0)\n",
        "    # Special case for i = j. \n",
        "    lmbda_ij_minus = (1./(lmbda_ij_minus + np.eye(J)) - np.eye(J))\n",
        "\n",
        "    # Sin((\\lambda_i - \\lambda_j) x) \n",
        "    #    = 1/2 (Sin(\\lambda_i x)cos(\\lambda_j x) + cos(\\lambda_i x)sin(\\lambda_j x))\n",
        "    Psi_plus = 2.*np.einsum('ind,jnd,ij->nd', a_cos_x, a_sin_x, lmbda_ij_plus)\n",
        "    Psi_minus = 2.*np.einsum('ind,jnd,ij->nd', a_sin_x,a_cos_x,lmbda_ij_minus)\n",
        "\n",
        "    # Positive part of psi_{ii}\n",
        "    diag_term = np.einsum('nd,d->nd',x,np.sum(a**2,axis = 0))\n",
        "    out = Psi_minus - Psi_plus + diag_term \n",
        "    out /= 2*L\n",
        "    \n",
        "    return out + np.expand_dims(b,axis = 0)"
      ],
      "execution_count": 0,
      "outputs": []
    },
    {
      "cell_type": "code",
      "metadata": {
        "id": "PxCbBKZX4P3P",
        "colab_type": "code",
        "outputId": "80bbd12e-216c-4b1f-ce4f-342be35bd64b",
        "colab": {
          "base_uri": "https://localhost:8080/",
          "height": 34
        }
      },
      "source": [
        "D = 1\n",
        "J = 100\n",
        "\n",
        "# a = np.clip(np.random.randn(J, D), -0.5, 0.5)\n",
        "a = np.array([1.] * int((J-2)/2) + [1.] * int((J-2)/2) + [1., 0.])\n",
        "print(a.shape)\n",
        "# lmbda = np.ones((J))\n",
        "# lmbda = 1.*np.array(range(J))+1\n",
        "# lmbda *=np.pi/(2*L)\n",
        "# lmbda = np.power(lmbda, alpha)\n",
        "a = np.expand_dims(a, axis=0)\n",
        "b = 1\n",
        "\n",
        "alpha = 1\n",
        "\n",
        "# b constant offset for the function.\n",
        "\n",
        "# L also gives higer values for frequencies.\n",
        "L = 1\n",
        "\n",
        "def monotonic_transform(x):\n",
        "  f = lambda x: monotonic_fourier(x, a, b, alpha, lmbda, L)\n",
        "  if not isinstance(x, Iterable):\n",
        "      x = np.ones((1, 1)) * x\n",
        "      return f(x)[0, 0]\n",
        "  if x.ndim == 1:\n",
        "    x = np.expand_dims(x, axis=1)\n",
        "    return f(x)[:, 0]\n",
        "\n",
        "  return f(x)"
      ],
      "execution_count": 0,
      "outputs": [
        {
          "output_type": "stream",
          "text": [
            "(100,)\n"
          ],
          "name": "stdout"
        }
      ]
    },
    {
      "cell_type": "code",
      "metadata": {
        "id": "0uXghJRgAtFA",
        "colab_type": "code",
        "outputId": "4888fe82-e0be-4dfd-aaeb-b91679c2572c",
        "colab": {
          "base_uri": "https://localhost:8080/",
          "height": 295
        }
      },
      "source": [
        "x = np.linspace(-5, 5, 1000)\n",
        "y = monotonic_transform(x)\n",
        "assert x.shape == y.shape\n",
        "x = np.linspace(-5, 5, 1000)\n",
        "plt.plot(x, y, '.')\n",
        "plt.xlim((-5, 5))"
      ],
      "execution_count": 0,
      "outputs": [
        {
          "output_type": "execute_result",
          "data": {
            "text/plain": [
              "(-5, 5)"
            ]
          },
          "metadata": {
            "tags": []
          },
          "execution_count": 703
        },
        {
          "output_type": "display_data",
          "data": {
            "image/png": "[encoded data removed]",
            "text/plain": [
              "<Figure size 432x288 with 1 Axes>"
            ]
          },
          "metadata": {
            "tags": []
          }
        }
      ]
    },
    {
      "cell_type": "code",
      "metadata": {
        "id": "sZQMoVQCg8Lt",
        "colab_type": "code",
        "colab": {}
      },
      "source": [
        "D = 1\n",
        "J = 10\n",
        "\n",
        "# a = np.clip(np.random.randn(J, D), -0.5, 0.5)\n",
        "a = np.flip(((np.arange(J)))) * 0.01\n",
        "# a = np.concatenate((np.zeros((25, )), np.ones((25, )))) * 0.1\n",
        "a = np.expand_dims(a, axis=0)\n",
        "b = 1\n",
        "\n",
        "alpha = 0.01\n",
        "\n",
        "# A gives you the weights for the frequencies. If you sort a, you should get similar\n",
        "# magintude but different frequencies.\n",
        "# a = np.random.uniform(J, D)  * np.random.choice([-1, 1], ((J, D))) * 0.1\n",
        "\n",
        "# b constant offset for the function.\n",
        "# b = np.random.uniform(D) * np.random.choice([-1, 1], (D)) * 0.5\n",
        "# L also gives higer values for frequencies (but it i less sensitive to the input)\n",
        "L = 5\n",
        "\n",
        "\n",
        "def monotonic_transform(x):\n",
        "  f = lambda x: monotonic_fourier(x, a, b, alpha, lmbda, L)\n",
        "  if not isinstance(x, Iterable):\n",
        "      x = np.ones((1, 1)) * x\n",
        "      return f(x)[0, 0]\n",
        "  if x.ndim == 1:\n",
        "    x = np.expand_dims(x, axis=1)\n",
        "    return f(x)[:, 0]\n",
        "\n",
        "  return f(x)"
      ],
      "execution_count": 0,
      "outputs": []
    },
    {
      "cell_type": "code",
      "metadata": {
        "id": "MEiu06CFDLzh",
        "colab_type": "code",
        "colab": {}
      },
      "source": [
        "D = 1\n",
        "J = 100\n",
        "\n",
        "a = np.clip(np.random.randn(J, D), -0.5, 0.5)\n",
        "b = 1\n",
        "\n",
        "alpha = 0.2\n",
        "\n",
        "# A gives you the weights for the frequencies. If you sort a, you should get similar\n",
        "# magintude but different frequencies.\n",
        "a = np.random.uniform(J, D)  * np.random.choice([-1, 1], ((J, D))) * 0.01\n",
        "\n",
        "# b constant offset for the function.\n",
        "b = np.random.uniform(D) * np.random.choice([-1, 1], (D)) * 0.5\n",
        "# L also gives higer values for frequencies (but it i less sensitive to the input)\n",
        "L = 1\n",
        "\n",
        "\n",
        "def monotonic_transform(x):\n",
        "  f = lambda x: monotonic_fourier(x, a, b, alpha, L)\n",
        "  if not isinstance(x, Iterable):\n",
        "      x = np.ones((1, 1)) * x\n",
        "      return f(x)[0, 0]\n",
        "  if x.ndim == 1:\n",
        "    x = np.expand_dims(x, axis=1)\n",
        "    return f(x)[:, 0]\n",
        "\n",
        "  return f(x)"
      ],
      "execution_count": 0,
      "outputs": []
    },
    {
      "cell_type": "code",
      "metadata": {
        "id": "lMbfdh1v2dzP",
        "colab_type": "code",
        "outputId": "90fe3ae0-3fbf-4cdb-a77d-00603930bbe1",
        "colab": {
          "base_uri": "https://localhost:8080/",
          "height": 295
        }
      },
      "source": [
        "lmbda = 1.*np.array(range(J))+1\n",
        "lmbda *=np.pi/(2*L)\n",
        "\n",
        "alpha = 2\n",
        "lmbda = np.power(lmbda, alpha)\n",
        "\n",
        "plt.plot(lmbda)"
      ],
      "execution_count": 0,
      "outputs": [
        {
          "output_type": "execute_result",
          "data": {
            "text/plain": [
              "[<matplotlib.lines.Line2D at 0x7f185e6ef438>]"
            ]
          },
          "metadata": {
            "tags": []
          },
          "execution_count": 593
        },
        {
          "output_type": "display_data",
          "data": {
            "image/png": "[encoded data removed]",
            "text/plain": [
              "<Figure size 432x288 with 1 Axes>"
            ]
          },
          "metadata": {
            "tags": []
          }
        }
      ]
    },
    {
      "cell_type": "code",
      "metadata": {
        "id": "EiciGq0ekNqC",
        "colab_type": "code",
        "outputId": "edc2d7ad-eff9-464e-a14b-881df635be55",
        "colab": {
          "base_uri": "https://localhost:8080/",
          "height": 34
        }
      },
      "source": [
        "monotonic_transform(1.)"
      ],
      "execution_count": 0,
      "outputs": [
        {
          "output_type": "execute_result",
          "data": {
            "text/plain": [
              "2.0435986286291876"
            ]
          },
          "metadata": {
            "tags": []
          },
          "execution_count": 537
        }
      ]
    },
    {
      "cell_type": "code",
      "metadata": {
        "id": "-hfegArK70zY",
        "colab_type": "code",
        "outputId": "7350ca29-0ba5-4385-d5b2-96e47dc4dca4",
        "colab": {
          "base_uri": "https://localhost:8080/",
          "height": 295
        }
      },
      "source": [
        "delta = 1\n",
        "l1 = 1.\n",
        "l2 = l1 + delta\n",
        "L = 5.\n",
        "x = np.linspace(-5, 5, 1000)\n",
        "y  = np.sin ( (l1 + l2) * (x+L)) / (l1 + l2) - np.sin ( (l1 - l2) * (x+L)) / (l1 - l2)\n",
        "\n",
        "y = y * 1./(2 * L)\n",
        "\n",
        "x = np.linspace(-5, 5, 1000)\n",
        "plt.plot(x, y, '.')\n",
        "plt.xlim((-5, 5))"
      ],
      "execution_count": 0,
      "outputs": [
        {
          "output_type": "execute_result",
          "data": {
            "text/plain": [
              "(-5, 5)"
            ]
          },
          "metadata": {
            "tags": []
          },
          "execution_count": 708
        },
        {
          "output_type": "display_data",
          "data": {
            "image/png": "[encoded data removed]",
            "text/plain": [
              "<Figure size 432x288 with 1 Axes>"
            ]
          },
          "metadata": {
            "tags": []
          }
        }
      ]
    },
    {
      "cell_type": "code",
      "metadata": {
        "id": "pHKY5AG2Z4Sa",
        "colab_type": "code",
        "colab": {}
      },
      "source": [
        "def small_monotonic_fourier(x, L):\n",
        "    # This function takes as input N vectors x of dimension d and outputs a applies a random point-wise non linearity on each dimension (x)_i  \n",
        "    # such that f(x_i) is an increasing function of x. \n",
        "    #out(x) = b + sum a_i a_j \\psi_{i,j}(x)\n",
        "    # \\psi_{i,j}(x) = sin( \\lambda_ij^- (x+L)  )/(2L \\lambda_ij^{-}) - sin( \\lambda_ij^+ (x+L)  )/(2L \\lambda_ij^{+})    \n",
        "    # This implements the procedure in : 'A non-parametric probabilistic model for monotonic functions'\n",
        "\n",
        "    # a : J x d  vecotr\n",
        "    # b : d vector \n",
        "    # x : N x d  vector\n",
        "    # out: N x d vector\n",
        "\n",
        "    # Make a copy of the input array\n",
        "    x  = np.array(x)\n",
        "    d = 1\n",
        "    # compute lmbda\n",
        "    # lmbda = 1.*np.array(range(J))+1\n",
        "    # lmbda *=np.pi/(2*L)\n",
        "    # lmbda = np.power(lmbda, alpha)\n",
        "    lmbda = np.array([1., 2., 5.])\n",
        "    a = np.array([[1., 2., 2.]]).T\n",
        "    J = a.shape[0]\n",
        "    #lmbda = abs(lmbda)\n",
        "    x += L \n",
        "    lmbda_x = np.einsum('i,nd->ind', lmbda , x )\n",
        "    a_sin_x = np.einsum('id,ind->ind',a,np.sin(lmbda_x))\n",
        "    a_cos_x = np.einsum('id,ind->ind',a,np.cos(lmbda_x))\n",
        "\n",
        "    # Denominator for Psi plus.\n",
        "    lmbda_ij_plus = np.expand_dims(lmbda,axis=0)+ np.expand_dims(lmbda,axis=1) \n",
        "    lmbda_ij_plus = 1./(lmbda_ij_plus)\n",
        "\n",
        "    # Denominator for Psi_minus.\n",
        "    lmbda_ij_minus = np.expand_dims(lmbda,axis=1) - np.expand_dims(lmbda,axis=0)\n",
        "    # Special case for i = j. \n",
        "    lmbda_ij_minus = (1./(lmbda_ij_minus + np.eye(J)) - np.eye(J))\n",
        "\n",
        "    # Sin((\\lambda_i - \\lambda_j) x) \n",
        "    #    = 1/2 (Sin(\\lambda_i x)cos(\\lambda_j x) + cos(\\lambda_i x)sin(\\lambda_j x))\n",
        "    Psi_plus = 2.*np.einsum('ind,jnd,ij->nd', a_cos_x, a_sin_x, lmbda_ij_plus)\n",
        "    Psi_minus = 2.*np.einsum('ind,jnd,ij->nd', a_sin_x,a_cos_x,lmbda_ij_minus)\n",
        "\n",
        "    # Positive part of psi_{ii}\n",
        "    diag_term = np.einsum('nd,d->nd',x,np.sum(a**2,axis = 0))\n",
        "    out = Psi_minus - Psi_plus + diag_term \n",
        "    out /= 2*L\n",
        "    \n",
        "    return out + np.expand_dims(b,axis = 0)"
      ],
      "execution_count": 0,
      "outputs": []
    },
    {
      "cell_type": "code",
      "metadata": {
        "id": "36HBlJGwjNNL",
        "colab_type": "code",
        "outputId": "830294e7-53b4-43c3-dbc2-055bdaf7e53a",
        "colab": {
          "base_uri": "https://localhost:8080/",
          "height": 295
        }
      },
      "source": [
        "x = np.linspace(-5, 5, 1000)\n",
        "x = np.expand_dims(x, axis=1)\n",
        "y = small_monotonic_fourier(x, 5)\n",
        "assert x.shape == y.shape\n",
        "x = np.linspace(-5, 5, 1000)\n",
        "plt.plot(x, y, '.')\n",
        "plt.xlim((-5, 5))"
      ],
      "execution_count": 0,
      "outputs": [
        {
          "output_type": "execute_result",
          "data": {
            "text/plain": [
              "(-5, 5)"
            ]
          },
          "metadata": {
            "tags": []
          },
          "execution_count": 727
        },
        {
          "output_type": "display_data",
          "data": {
            "image/png": "[encoded data removed]",
            "text/plain": [
              "<Figure size 432x288 with 1 Axes>"
            ]
          },
          "metadata": {
            "tags": []
          }
        }
      ]
    },
    {
      "cell_type": "code",
      "metadata": {
        "id": "AojKxwv_TxkJ",
        "colab_type": "code",
        "outputId": "3ff584a0-f478-4227-ebbc-491898b7b76f",
        "colab": {
          "base_uri": "https://localhost:8080/",
          "height": 295
        }
      },
      "source": [
        "x = np.linspace(0.01, 10, 1000)\n",
        "x = np.linspace(-10, 0.01, 1000)\n",
        "k = 3\n",
        "y = np.sin(x * 10) / x\n",
        "assert x.shape == y.shape\n",
        "plt.plot(x, y, '.')"
      ],
      "execution_count": 0,
      "outputs": [
        {
          "output_type": "execute_result",
          "data": {
            "text/plain": [
              "[<matplotlib.lines.Line2D at 0x7f185edd3898>]"
            ]
          },
          "metadata": {
            "tags": []
          },
          "execution_count": 540
        },
        {
          "output_type": "display_data",
          "data": {
            "image/png": "[encoded data removed]",
            "text/plain": [
              "<Figure size 432x288 with 1 Axes>"
            ]
          },
          "metadata": {
            "tags": []
          }
        }
      ]
    },
    {
      "cell_type": "markdown",
      "metadata": {
        "id": "jQpcJNLStjaE",
        "colab_type": "text"
      },
      "source": [
        "## Training the estimator"
      ]
    },
    {
      "cell_type": "code",
      "metadata": {
        "id": "2TaOPJOmfXTg",
        "colab_type": "code",
        "colab": {}
      },
      "source": [
        "transform = monotonic_transform\n",
        "# transform = lambda x: flow_transform.forward(x)\n",
        "# transform = polinomial_transformation"
      ],
      "execution_count": 0,
      "outputs": []
    },
    {
      "cell_type": "code",
      "metadata": {
        "id": "h86UhD3Dfg-A",
        "colab_type": "code",
        "colab": {}
      },
      "source": [
        "def squash_fn():\n",
        "  return tf.nn.tanh\n",
        "\n",
        "  def sq(x):\n",
        "    return np.clip(x, -5, 5)\n",
        "  return sq"
      ],
      "execution_count": 0,
      "outputs": []
    },
    {
      "cell_type": "code",
      "metadata": {
        "id": "KAFoe7bws7co",
        "colab_type": "code",
        "colab": {}
      },
      "source": [
        "T = snt.Sequential([\n",
        "    # squash_fn(),\n",
        "    snt.Linear(200),\n",
        "    tf.nn.relu,\n",
        "    snt.Linear(200),\n",
        "    tf.nn.relu,\n",
        "    snt.Linear(1),\n",
        "])"
      ],
      "execution_count": 0,
      "outputs": []
    },
    {
      "cell_type": "code",
      "metadata": {
        "colab_type": "code",
        "id": "xfO-L4L8s-Jk",
        "colab": {}
      },
      "source": [
        "BATCH_SIZE = 100\n",
        "NUM_UPDATES = 10000"
      ],
      "execution_count": 0,
      "outputs": []
    },
    {
      "cell_type": "code",
      "metadata": {
        "colab_type": "code",
        "id": "No6XzOx3s-J0",
        "colab": {}
      },
      "source": [
        "opt = snt.optimizers.Adam(learning_rate=0.001)"
      ],
      "execution_count": 0,
      "outputs": []
    },
    {
      "cell_type": "code",
      "metadata": {
        "id": "Ywp9OvtZaUMX",
        "colab_type": "code",
        "outputId": "11b1ea4b-38c0-4f9b-f039-d1a774ac89e0",
        "colab": {
          "base_uri": "https://localhost:8080/",
          "height": 51
        }
      },
      "source": [
        "# print(T(polinomial_transformation(dist1.sample((100, 1)))))\n",
        "print(T(transform(dist1.sample((100, 1)))).numpy().max())\n",
        "print(T(transform(dist2.sample((100, 1)))).numpy().max())"
      ],
      "execution_count": 0,
      "outputs": [
        {
          "output_type": "stream",
          "text": [
            "0.515563519399465\n",
            "0.5788688324065243\n"
          ],
          "name": "stdout"
        }
      ]
    },
    {
      "cell_type": "code",
      "metadata": {
        "colab_type": "code",
        "id": "nK7s8nSQs-J7",
        "colab": {}
      },
      "source": [
        "def estimate_kl(sample_size):\n",
        "  d1 = T(transform(dist1.sample(sample_size)))\n",
        "  d2 = tf.exp(T(transform(dist2.sample(sample_size))))\n",
        "  return tf.reduce_mean(1 + d1 - d2)"
      ],
      "execution_count": 0,
      "outputs": []
    },
    {
      "cell_type": "code",
      "metadata": {
        "colab_type": "code",
        "id": "AIUIAxahs-KC",
        "colab": {}
      },
      "source": [
        "def step():\n",
        "  with tf.GradientTape() as tape:\n",
        "    estimated_kl = estimate_kl((BATCH_SIZE, 1))\n",
        "    estimated_kl = tf.reduce_mean(estimated_kl)\n",
        "    loss = - estimated_kl\n",
        "    params = T.trainable_variables\n",
        "    grads = tape.gradient(loss, params)\n",
        "    opt.apply(grads, params)"
      ],
      "execution_count": 0,
      "outputs": []
    },
    {
      "cell_type": "code",
      "metadata": {
        "colab_type": "code",
        "outputId": "f3bb8a92-df13-45e9-9ec2-877899076d97",
        "id": "AEm2qMlys-KH",
        "colab": {
          "base_uri": "https://localhost:8080/",
          "height": 1000
        }
      },
      "source": [
        "for i in range(NUM_UPDATES):\n",
        "  step()\n",
        "  if i % 10 == 0:\n",
        "    print(estimate_kl((1000, 1)))"
      ],
      "execution_count": 0,
      "outputs": [
        {
          "output_type": "stream",
          "text": [
            "tf.Tensor(0.1811950524820844, shape=(), dtype=float64)\n",
            "tf.Tensor(1.1109933190614887, shape=(), dtype=float64)\n",
            "tf.Tensor(1.453438282320515, shape=(), dtype=float64)\n",
            "tf.Tensor(1.7643802456983673, shape=(), dtype=float64)\n",
            "tf.Tensor(1.8438693709363745, shape=(), dtype=float64)\n",
            "tf.Tensor(1.6591632257240438, shape=(), dtype=float64)\n",
            "tf.Tensor(1.6919335389555854, shape=(), dtype=float64)\n",
            "tf.Tensor(1.7941666303548636, shape=(), dtype=float64)\n",
            "tf.Tensor(1.755046371600454, shape=(), dtype=float64)\n",
            "tf.Tensor(1.7293219842949157, shape=(), dtype=float64)\n",
            "tf.Tensor(1.8026006551840696, shape=(), dtype=float64)\n",
            "tf.Tensor(1.776207510873087, shape=(), dtype=float64)\n",
            "tf.Tensor(1.6616842880283897, shape=(), dtype=float64)\n",
            "tf.Tensor(1.9125003138821883, shape=(), dtype=float64)\n",
            "tf.Tensor(1.7213673041215338, shape=(), dtype=float64)\n",
            "tf.Tensor(1.820929811558679, shape=(), dtype=float64)\n",
            "tf.Tensor(1.6905451985966995, shape=(), dtype=float64)\n",
            "tf.Tensor(1.7993135129933642, shape=(), dtype=float64)\n",
            "tf.Tensor(1.4365442243526427, shape=(), dtype=float64)\n",
            "tf.Tensor(1.7977238271912086, shape=(), dtype=float64)\n",
            "tf.Tensor(1.8334018498154576, shape=(), dtype=float64)\n",
            "tf.Tensor(1.700833138027978, shape=(), dtype=float64)\n",
            "tf.Tensor(1.807695714262081, shape=(), dtype=float64)\n",
            "tf.Tensor(1.9088935767407111, shape=(), dtype=float64)\n",
            "tf.Tensor(1.7479819179971137, shape=(), dtype=float64)\n",
            "tf.Tensor(1.9660235356460376, shape=(), dtype=float64)\n",
            "tf.Tensor(1.8721971266757833, shape=(), dtype=float64)\n",
            "tf.Tensor(1.9483216754789388, shape=(), dtype=float64)\n",
            "tf.Tensor(1.988256655253865, shape=(), dtype=float64)\n",
            "tf.Tensor(1.4710011028030692, shape=(), dtype=float64)\n",
            "tf.Tensor(1.7756844720819327, shape=(), dtype=float64)\n",
            "tf.Tensor(1.83133924050351, shape=(), dtype=float64)\n",
            "tf.Tensor(1.9443439469784478, shape=(), dtype=float64)\n",
            "tf.Tensor(1.8056522652852605, shape=(), dtype=float64)\n",
            "tf.Tensor(1.711495630844312, shape=(), dtype=float64)\n",
            "tf.Tensor(1.8210068065940386, shape=(), dtype=float64)\n",
            "tf.Tensor(1.8364532360474228, shape=(), dtype=float64)\n",
            "tf.Tensor(1.722940356572291, shape=(), dtype=float64)\n",
            "tf.Tensor(1.912409585972214, shape=(), dtype=float64)\n",
            "tf.Tensor(1.7941168763051298, shape=(), dtype=float64)\n",
            "tf.Tensor(1.8127790032315085, shape=(), dtype=float64)\n",
            "tf.Tensor(1.810934999190159, shape=(), dtype=float64)\n",
            "tf.Tensor(1.8472823383874013, shape=(), dtype=float64)\n",
            "tf.Tensor(1.705019074987512, shape=(), dtype=float64)\n",
            "tf.Tensor(1.92700713861959, shape=(), dtype=float64)\n",
            "tf.Tensor(1.752974072383793, shape=(), dtype=float64)\n",
            "tf.Tensor(1.8766371866298055, shape=(), dtype=float64)\n",
            "tf.Tensor(1.871434718544839, shape=(), dtype=float64)\n",
            "tf.Tensor(1.8871003346258626, shape=(), dtype=float64)\n",
            "tf.Tensor(2.0125723591632263, shape=(), dtype=float64)\n",
            "tf.Tensor(1.735360447849907, shape=(), dtype=float64)\n",
            "tf.Tensor(1.7991789407860779, shape=(), dtype=float64)\n",
            "tf.Tensor(1.8521602569390652, shape=(), dtype=float64)\n",
            "tf.Tensor(1.9480200922956232, shape=(), dtype=float64)\n",
            "tf.Tensor(2.0512910191902978, shape=(), dtype=float64)\n",
            "tf.Tensor(1.8681331481060865, shape=(), dtype=float64)\n",
            "tf.Tensor(1.9318199494998303, shape=(), dtype=float64)\n",
            "tf.Tensor(1.8668037665653587, shape=(), dtype=float64)\n",
            "tf.Tensor(1.7159061600940944, shape=(), dtype=float64)\n",
            "tf.Tensor(1.816444787273952, shape=(), dtype=float64)\n",
            "tf.Tensor(1.9239426088889449, shape=(), dtype=float64)\n",
            "tf.Tensor(1.846739690609394, shape=(), dtype=float64)\n",
            "tf.Tensor(1.982348238762457, shape=(), dtype=float64)\n",
            "tf.Tensor(1.7730743217257632, shape=(), dtype=float64)\n",
            "tf.Tensor(1.975420485948009, shape=(), dtype=float64)\n",
            "tf.Tensor(1.753122328348105, shape=(), dtype=float64)\n",
            "tf.Tensor(1.7316191394647535, shape=(), dtype=float64)\n",
            "tf.Tensor(1.9402426611716632, shape=(), dtype=float64)\n",
            "tf.Tensor(1.9649620787890507, shape=(), dtype=float64)\n",
            "tf.Tensor(1.7085873538096958, shape=(), dtype=float64)\n",
            "tf.Tensor(1.899487770759821, shape=(), dtype=float64)\n",
            "tf.Tensor(1.8613472755595357, shape=(), dtype=float64)\n",
            "tf.Tensor(1.8361646214452467, shape=(), dtype=float64)\n",
            "tf.Tensor(1.5012067308016348, shape=(), dtype=float64)\n",
            "tf.Tensor(1.8238930849665276, shape=(), dtype=float64)\n",
            "tf.Tensor(1.9335761107710734, shape=(), dtype=float64)\n",
            "tf.Tensor(1.9323048080467524, shape=(), dtype=float64)\n",
            "tf.Tensor(1.7466342698448614, shape=(), dtype=float64)\n",
            "tf.Tensor(1.8137982922432188, shape=(), dtype=float64)\n",
            "tf.Tensor(1.8408537742730882, shape=(), dtype=float64)\n",
            "tf.Tensor(2.041778994516241, shape=(), dtype=float64)\n",
            "tf.Tensor(1.6661363138879552, shape=(), dtype=float64)\n",
            "tf.Tensor(1.813939188836506, shape=(), dtype=float64)\n",
            "tf.Tensor(1.805448407447573, shape=(), dtype=float64)\n",
            "tf.Tensor(1.7249691352487138, shape=(), dtype=float64)\n",
            "tf.Tensor(1.9301946101726286, shape=(), dtype=float64)\n",
            "tf.Tensor(1.9846785207643551, shape=(), dtype=float64)\n",
            "tf.Tensor(1.8920369147782286, shape=(), dtype=float64)\n",
            "tf.Tensor(1.9215449503278141, shape=(), dtype=float64)\n",
            "tf.Tensor(1.7303359558900115, shape=(), dtype=float64)\n",
            "tf.Tensor(1.8069555981163707, shape=(), dtype=float64)\n",
            "tf.Tensor(1.7230326526886919, shape=(), dtype=float64)\n",
            "tf.Tensor(1.860054393501275, shape=(), dtype=float64)\n",
            "tf.Tensor(1.8627314461338251, shape=(), dtype=float64)\n",
            "tf.Tensor(1.9005214176701342, shape=(), dtype=float64)\n",
            "tf.Tensor(1.8422555172105377, shape=(), dtype=float64)\n",
            "tf.Tensor(1.9922228550902048, shape=(), dtype=float64)\n",
            "tf.Tensor(1.7417061362788746, shape=(), dtype=float64)\n",
            "tf.Tensor(1.7927013699672116, shape=(), dtype=float64)\n",
            "tf.Tensor(1.6576027049420636, shape=(), dtype=float64)\n",
            "tf.Tensor(1.6829184731998563, shape=(), dtype=float64)\n",
            "tf.Tensor(1.8886492561843016, shape=(), dtype=float64)\n",
            "tf.Tensor(1.8829106044863488, shape=(), dtype=float64)\n",
            "tf.Tensor(1.9171053284712327, shape=(), dtype=float64)\n",
            "tf.Tensor(1.858255294247692, shape=(), dtype=float64)\n",
            "tf.Tensor(1.8525231890737448, shape=(), dtype=float64)\n",
            "tf.Tensor(1.7242275280409012, shape=(), dtype=float64)\n",
            "tf.Tensor(1.6749858077765847, shape=(), dtype=float64)\n",
            "tf.Tensor(1.8048976120442264, shape=(), dtype=float64)\n",
            "tf.Tensor(1.782239699101204, shape=(), dtype=float64)\n",
            "tf.Tensor(1.8354610590468685, shape=(), dtype=float64)\n",
            "tf.Tensor(1.9634577447198769, shape=(), dtype=float64)\n",
            "tf.Tensor(1.849266703831914, shape=(), dtype=float64)\n",
            "tf.Tensor(1.6913277603695032, shape=(), dtype=float64)\n",
            "tf.Tensor(1.8515006985868527, shape=(), dtype=float64)\n",
            "tf.Tensor(1.9442689220793021, shape=(), dtype=float64)\n",
            "tf.Tensor(1.8929320773495455, shape=(), dtype=float64)\n",
            "tf.Tensor(1.8285009258787008, shape=(), dtype=float64)\n",
            "tf.Tensor(1.8191883939617008, shape=(), dtype=float64)\n",
            "tf.Tensor(1.692525680328616, shape=(), dtype=float64)\n",
            "tf.Tensor(1.917504488299177, shape=(), dtype=float64)\n",
            "tf.Tensor(1.8196267492544336, shape=(), dtype=float64)\n",
            "tf.Tensor(1.8497260718831299, shape=(), dtype=float64)\n",
            "tf.Tensor(1.7701775428370243, shape=(), dtype=float64)\n",
            "tf.Tensor(1.739139258383966, shape=(), dtype=float64)\n",
            "tf.Tensor(1.8704494859484488, shape=(), dtype=float64)\n",
            "tf.Tensor(1.7929074127484412, shape=(), dtype=float64)\n",
            "tf.Tensor(1.8540460458722618, shape=(), dtype=float64)\n",
            "tf.Tensor(1.8110807575032744, shape=(), dtype=float64)\n",
            "tf.Tensor(1.8503816543006228, shape=(), dtype=float64)\n",
            "tf.Tensor(1.7843393950036421, shape=(), dtype=float64)\n",
            "tf.Tensor(2.0041093262038308, shape=(), dtype=float64)\n",
            "tf.Tensor(1.7686532946020357, shape=(), dtype=float64)\n",
            "tf.Tensor(1.7802246897542378, shape=(), dtype=float64)\n",
            "tf.Tensor(1.8959204495211583, shape=(), dtype=float64)\n",
            "tf.Tensor(1.771290064359904, shape=(), dtype=float64)\n",
            "tf.Tensor(1.9458922229219016, shape=(), dtype=float64)\n",
            "tf.Tensor(1.9552940861010315, shape=(), dtype=float64)\n",
            "tf.Tensor(1.7717861889464857, shape=(), dtype=float64)\n",
            "tf.Tensor(2.0504209932618522, shape=(), dtype=float64)\n",
            "tf.Tensor(1.8780500957632786, shape=(), dtype=float64)\n",
            "tf.Tensor(1.7787751306641584, shape=(), dtype=float64)\n",
            "tf.Tensor(1.8270444001925683, shape=(), dtype=float64)\n",
            "tf.Tensor(1.7069851521128123, shape=(), dtype=float64)\n",
            "tf.Tensor(1.9015780505342221, shape=(), dtype=float64)\n",
            "tf.Tensor(1.8154160419503065, shape=(), dtype=float64)\n",
            "tf.Tensor(1.8706405100989012, shape=(), dtype=float64)\n",
            "tf.Tensor(1.9773203578306082, shape=(), dtype=float64)\n",
            "tf.Tensor(1.8276514166694484, shape=(), dtype=float64)\n",
            "tf.Tensor(1.8916625357342023, shape=(), dtype=float64)\n",
            "tf.Tensor(1.8880352786961074, shape=(), dtype=float64)\n",
            "tf.Tensor(1.9063968166394611, shape=(), dtype=float64)\n",
            "tf.Tensor(1.846287879390075, shape=(), dtype=float64)\n",
            "tf.Tensor(1.862899203318195, shape=(), dtype=float64)\n",
            "tf.Tensor(1.7461910875654125, shape=(), dtype=float64)\n",
            "tf.Tensor(1.8130966871312424, shape=(), dtype=float64)\n",
            "tf.Tensor(1.8194520959360083, shape=(), dtype=float64)\n",
            "tf.Tensor(1.7736567137170929, shape=(), dtype=float64)\n",
            "tf.Tensor(1.8296717302663985, shape=(), dtype=float64)\n",
            "tf.Tensor(1.8803740403929794, shape=(), dtype=float64)\n",
            "tf.Tensor(1.8725609561293444, shape=(), dtype=float64)\n",
            "tf.Tensor(1.9136044186415904, shape=(), dtype=float64)\n",
            "tf.Tensor(1.8673417880887528, shape=(), dtype=float64)\n",
            "tf.Tensor(1.8682329380582756, shape=(), dtype=float64)\n",
            "tf.Tensor(1.819137843391286, shape=(), dtype=float64)\n",
            "tf.Tensor(2.0272946937059917, shape=(), dtype=float64)\n",
            "tf.Tensor(1.7503123259075015, shape=(), dtype=float64)\n",
            "tf.Tensor(1.8826226287708854, shape=(), dtype=float64)\n",
            "tf.Tensor(1.789401612316181, shape=(), dtype=float64)\n",
            "tf.Tensor(1.89951786351148, shape=(), dtype=float64)\n",
            "tf.Tensor(1.7369353084184584, shape=(), dtype=float64)\n",
            "tf.Tensor(1.8827142855896022, shape=(), dtype=float64)\n",
            "tf.Tensor(1.826287941008174, shape=(), dtype=float64)\n",
            "tf.Tensor(1.9048985511193222, shape=(), dtype=float64)\n",
            "tf.Tensor(1.8849594948619801, shape=(), dtype=float64)\n",
            "tf.Tensor(1.8616504657482515, shape=(), dtype=float64)\n",
            "tf.Tensor(1.9213551947848377, shape=(), dtype=float64)\n",
            "tf.Tensor(1.816519323851838, shape=(), dtype=float64)\n",
            "tf.Tensor(1.9339395737593728, shape=(), dtype=float64)\n",
            "tf.Tensor(2.0310867468753226, shape=(), dtype=float64)\n",
            "tf.Tensor(1.7687186302516238, shape=(), dtype=float64)\n",
            "tf.Tensor(1.841950563337145, shape=(), dtype=float64)\n",
            "tf.Tensor(1.8444756582200934, shape=(), dtype=float64)\n",
            "tf.Tensor(1.8263893221019887, shape=(), dtype=float64)\n",
            "tf.Tensor(1.8108206021144477, shape=(), dtype=float64)\n",
            "tf.Tensor(2.016589721660068, shape=(), dtype=float64)\n",
            "tf.Tensor(1.838584196012876, shape=(), dtype=float64)\n",
            "tf.Tensor(1.7101291514150547, shape=(), dtype=float64)\n",
            "tf.Tensor(1.8915983828296135, shape=(), dtype=float64)\n",
            "tf.Tensor(1.7784391975039144, shape=(), dtype=float64)\n",
            "tf.Tensor(1.9118129317642338, shape=(), dtype=float64)\n",
            "tf.Tensor(1.8653517346131783, shape=(), dtype=float64)\n",
            "tf.Tensor(1.8229358350411697, shape=(), dtype=float64)\n",
            "tf.Tensor(1.8707893166095404, shape=(), dtype=float64)\n",
            "tf.Tensor(1.8614944752053884, shape=(), dtype=float64)\n",
            "tf.Tensor(1.848040179069303, shape=(), dtype=float64)\n",
            "tf.Tensor(1.7009201385618378, shape=(), dtype=float64)\n",
            "tf.Tensor(2.068903596139817, shape=(), dtype=float64)\n",
            "tf.Tensor(1.9321409106410374, shape=(), dtype=float64)\n",
            "tf.Tensor(1.9466049556417269, shape=(), dtype=float64)\n",
            "tf.Tensor(1.9088380947906458, shape=(), dtype=float64)\n",
            "tf.Tensor(1.9221082612840785, shape=(), dtype=float64)\n",
            "tf.Tensor(1.9342975332882248, shape=(), dtype=float64)\n",
            "tf.Tensor(1.618531565056229, shape=(), dtype=float64)\n",
            "tf.Tensor(1.8899893124620035, shape=(), dtype=float64)\n",
            "tf.Tensor(1.7106585456512533, shape=(), dtype=float64)\n",
            "tf.Tensor(1.9291230468467804, shape=(), dtype=float64)\n",
            "tf.Tensor(1.9634220651853747, shape=(), dtype=float64)\n",
            "tf.Tensor(1.8329782796399043, shape=(), dtype=float64)\n",
            "tf.Tensor(1.8730939700745013, shape=(), dtype=float64)\n",
            "tf.Tensor(1.7542637140235509, shape=(), dtype=float64)\n",
            "tf.Tensor(1.8474175927010617, shape=(), dtype=float64)\n",
            "tf.Tensor(1.9271194540799408, shape=(), dtype=float64)\n",
            "tf.Tensor(2.0063743823835365, shape=(), dtype=float64)\n",
            "tf.Tensor(1.9701984244578905, shape=(), dtype=float64)\n",
            "tf.Tensor(1.9200383913534644, shape=(), dtype=float64)\n",
            "tf.Tensor(1.9443287552755122, shape=(), dtype=float64)\n",
            "tf.Tensor(1.9198575112866423, shape=(), dtype=float64)\n",
            "tf.Tensor(1.754121331271902, shape=(), dtype=float64)\n",
            "tf.Tensor(1.8695349139303368, shape=(), dtype=float64)\n",
            "tf.Tensor(1.9064959586592805, shape=(), dtype=float64)\n",
            "tf.Tensor(1.7846388263620536, shape=(), dtype=float64)\n"
          ],
          "name": "stdout"
        },
        {
          "output_type": "error",
          "ename": "KeyboardInterrupt",
          "evalue": "ignored",
          "traceback": [
            "\u001b[0;31m---------------------------------------------------------------------------\u001b[0m",
            "\u001b[0;31mKeyboardInterrupt\u001b[0m                         Traceback (most recent call last)",
            "\u001b[0;32m<ipython-input-512-ff6c062f26bd>\u001b[0m in \u001b[0;36m<module>\u001b[0;34m()\u001b[0m\n\u001b[1;32m      1\u001b[0m \u001b[0;32mfor\u001b[0m \u001b[0mi\u001b[0m \u001b[0;32min\u001b[0m \u001b[0mrange\u001b[0m\u001b[0;34m(\u001b[0m\u001b[0mNUM_UPDATES\u001b[0m\u001b[0;34m)\u001b[0m\u001b[0;34m:\u001b[0m\u001b[0;34m\u001b[0m\u001b[0;34m\u001b[0m\u001b[0m\n\u001b[0;32m----> 2\u001b[0;31m   \u001b[0mstep\u001b[0m\u001b[0;34m(\u001b[0m\u001b[0;34m)\u001b[0m\u001b[0;34m\u001b[0m\u001b[0;34m\u001b[0m\u001b[0m\n\u001b[0m\u001b[1;32m      3\u001b[0m   \u001b[0;32mif\u001b[0m \u001b[0mi\u001b[0m \u001b[0;34m%\u001b[0m \u001b[0;36m10\u001b[0m \u001b[0;34m==\u001b[0m \u001b[0;36m0\u001b[0m\u001b[0;34m:\u001b[0m\u001b[0;34m\u001b[0m\u001b[0;34m\u001b[0m\u001b[0m\n\u001b[1;32m      4\u001b[0m     \u001b[0mprint\u001b[0m\u001b[0;34m(\u001b[0m\u001b[0mestimate_kl\u001b[0m\u001b[0;34m(\u001b[0m\u001b[0;34m(\u001b[0m\u001b[0;36m1000\u001b[0m\u001b[0;34m,\u001b[0m \u001b[0;36m1\u001b[0m\u001b[0;34m)\u001b[0m\u001b[0;34m)\u001b[0m\u001b[0;34m)\u001b[0m\u001b[0;34m\u001b[0m\u001b[0;34m\u001b[0m\u001b[0m\n",
            "\u001b[0;32m<ipython-input-511-a17876afe26d>\u001b[0m in \u001b[0;36mstep\u001b[0;34m()\u001b[0m\n\u001b[1;32m      6\u001b[0m     \u001b[0mparams\u001b[0m \u001b[0;34m=\u001b[0m \u001b[0mT\u001b[0m\u001b[0;34m.\u001b[0m\u001b[0mtrainable_variables\u001b[0m\u001b[0;34m\u001b[0m\u001b[0;34m\u001b[0m\u001b[0m\n\u001b[1;32m      7\u001b[0m     \u001b[0mgrads\u001b[0m \u001b[0;34m=\u001b[0m \u001b[0mtape\u001b[0m\u001b[0;34m.\u001b[0m\u001b[0mgradient\u001b[0m\u001b[0;34m(\u001b[0m\u001b[0mloss\u001b[0m\u001b[0;34m,\u001b[0m \u001b[0mparams\u001b[0m\u001b[0;34m)\u001b[0m\u001b[0;34m\u001b[0m\u001b[0;34m\u001b[0m\u001b[0m\n\u001b[0;32m----> 8\u001b[0;31m     \u001b[0mopt\u001b[0m\u001b[0;34m.\u001b[0m\u001b[0mapply\u001b[0m\u001b[0;34m(\u001b[0m\u001b[0mgrads\u001b[0m\u001b[0;34m,\u001b[0m \u001b[0mparams\u001b[0m\u001b[0;34m)\u001b[0m\u001b[0;34m\u001b[0m\u001b[0;34m\u001b[0m\u001b[0m\n\u001b[0m",
            "\u001b[0;32m/usr/local/lib/python3.6/dist-packages/sonnet/src/utils.py\u001b[0m in \u001b[0;36m_decorate_unbound_method\u001b[0;34m(self, *args, **kwargs)\u001b[0m\n\u001b[1;32m     81\u001b[0m       \u001b[0;32mdef\u001b[0m \u001b[0m_decorate_unbound_method\u001b[0m\u001b[0;34m(\u001b[0m\u001b[0mself\u001b[0m\u001b[0;34m,\u001b[0m \u001b[0;34m*\u001b[0m\u001b[0margs\u001b[0m\u001b[0;34m,\u001b[0m \u001b[0;34m**\u001b[0m\u001b[0mkwargs\u001b[0m\u001b[0;34m)\u001b[0m\u001b[0;34m:\u001b[0m\u001b[0;34m\u001b[0m\u001b[0;34m\u001b[0m\u001b[0m\n\u001b[1;32m     82\u001b[0m         \u001b[0mbound_method\u001b[0m \u001b[0;34m=\u001b[0m \u001b[0mf\u001b[0m\u001b[0;34m.\u001b[0m\u001b[0m__get__\u001b[0m\u001b[0;34m(\u001b[0m\u001b[0mself\u001b[0m\u001b[0;34m,\u001b[0m \u001b[0mself\u001b[0m\u001b[0;34m.\u001b[0m\u001b[0m__class__\u001b[0m\u001b[0;34m)\u001b[0m  \u001b[0;31m# pytype: disable=attribute-error\u001b[0m\u001b[0;34m\u001b[0m\u001b[0;34m\u001b[0m\u001b[0m\n\u001b[0;32m---> 83\u001b[0;31m         \u001b[0;32mreturn\u001b[0m \u001b[0mdecorator_fn\u001b[0m\u001b[0;34m(\u001b[0m\u001b[0mbound_method\u001b[0m\u001b[0;34m,\u001b[0m \u001b[0mself\u001b[0m\u001b[0;34m,\u001b[0m \u001b[0margs\u001b[0m\u001b[0;34m,\u001b[0m \u001b[0mkwargs\u001b[0m\u001b[0;34m)\u001b[0m\u001b[0;34m\u001b[0m\u001b[0;34m\u001b[0m\u001b[0m\n\u001b[0m\u001b[1;32m     84\u001b[0m       \u001b[0;32mreturn\u001b[0m \u001b[0m_decorate_unbound_method\u001b[0m\u001b[0;34m\u001b[0m\u001b[0;34m\u001b[0m\u001b[0m\n\u001b[1;32m     85\u001b[0m \u001b[0;34m\u001b[0m\u001b[0m\n",
            "\u001b[0;32m/usr/local/lib/python3.6/dist-packages/sonnet/src/base.py\u001b[0m in \u001b[0;36mwrap_with_name_scope\u001b[0;34m(method, instance, args, kwargs)\u001b[0m\n\u001b[1;32m    250\u001b[0m     \u001b[0;31m# snt.Module enters the module name scope for all methods. To disable this\u001b[0m\u001b[0;34m\u001b[0m\u001b[0;34m\u001b[0m\u001b[0;34m\u001b[0m\u001b[0m\n\u001b[1;32m    251\u001b[0m     \u001b[0;31m# for a particular method annotate it with `@snt.no_name_scope`.\u001b[0m\u001b[0;34m\u001b[0m\u001b[0;34m\u001b[0m\u001b[0;34m\u001b[0m\u001b[0m\n\u001b[0;32m--> 252\u001b[0;31m     \u001b[0;32mreturn\u001b[0m \u001b[0mmethod\u001b[0m\u001b[0;34m(\u001b[0m\u001b[0;34m*\u001b[0m\u001b[0margs\u001b[0m\u001b[0;34m,\u001b[0m \u001b[0;34m**\u001b[0m\u001b[0mkwargs\u001b[0m\u001b[0;34m)\u001b[0m\u001b[0;34m\u001b[0m\u001b[0;34m\u001b[0m\u001b[0m\n\u001b[0m\u001b[1;32m    253\u001b[0m \u001b[0;34m\u001b[0m\u001b[0m\n\u001b[1;32m    254\u001b[0m \u001b[0;34m\u001b[0m\u001b[0m\n",
            "\u001b[0;32m/usr/local/lib/python3.6/dist-packages/sonnet/src/adam.py\u001b[0m in \u001b[0;36mapply\u001b[0;34m(self, updates, parameters)\u001b[0m\n\u001b[1;32m    107\u001b[0m         \u001b[0moptimizer_utils\u001b[0m\u001b[0;34m.\u001b[0m\u001b[0mcheck_same_dtype\u001b[0m\u001b[0;34m(\u001b[0m\u001b[0mupdate\u001b[0m\u001b[0;34m,\u001b[0m \u001b[0mparameter\u001b[0m\u001b[0;34m)\u001b[0m\u001b[0;34m\u001b[0m\u001b[0;34m\u001b[0m\u001b[0m\n\u001b[1;32m    108\u001b[0m         \u001b[0mlr\u001b[0m \u001b[0;34m=\u001b[0m \u001b[0mtf\u001b[0m\u001b[0;34m.\u001b[0m\u001b[0mcast\u001b[0m\u001b[0;34m(\u001b[0m\u001b[0mself\u001b[0m\u001b[0;34m.\u001b[0m\u001b[0mlearning_rate\u001b[0m\u001b[0;34m,\u001b[0m \u001b[0mupdate\u001b[0m\u001b[0;34m.\u001b[0m\u001b[0mdtype\u001b[0m\u001b[0;34m)\u001b[0m\u001b[0;34m\u001b[0m\u001b[0;34m\u001b[0m\u001b[0m\n\u001b[0;32m--> 109\u001b[0;31m         \u001b[0mbeta1\u001b[0m \u001b[0;34m=\u001b[0m \u001b[0mtf\u001b[0m\u001b[0;34m.\u001b[0m\u001b[0mcast\u001b[0m\u001b[0;34m(\u001b[0m\u001b[0mself\u001b[0m\u001b[0;34m.\u001b[0m\u001b[0mbeta1\u001b[0m\u001b[0;34m,\u001b[0m \u001b[0mupdate\u001b[0m\u001b[0;34m.\u001b[0m\u001b[0mdtype\u001b[0m\u001b[0;34m)\u001b[0m\u001b[0;34m\u001b[0m\u001b[0;34m\u001b[0m\u001b[0m\n\u001b[0m\u001b[1;32m    110\u001b[0m         \u001b[0mbeta2\u001b[0m \u001b[0;34m=\u001b[0m \u001b[0mtf\u001b[0m\u001b[0;34m.\u001b[0m\u001b[0mcast\u001b[0m\u001b[0;34m(\u001b[0m\u001b[0mself\u001b[0m\u001b[0;34m.\u001b[0m\u001b[0mbeta2\u001b[0m\u001b[0;34m,\u001b[0m \u001b[0mupdate\u001b[0m\u001b[0;34m.\u001b[0m\u001b[0mdtype\u001b[0m\u001b[0;34m)\u001b[0m\u001b[0;34m\u001b[0m\u001b[0;34m\u001b[0m\u001b[0m\n\u001b[1;32m    111\u001b[0m         \u001b[0mepsilon\u001b[0m \u001b[0;34m=\u001b[0m \u001b[0mtf\u001b[0m\u001b[0;34m.\u001b[0m\u001b[0mcast\u001b[0m\u001b[0;34m(\u001b[0m\u001b[0mself\u001b[0m\u001b[0;34m.\u001b[0m\u001b[0mepsilon\u001b[0m\u001b[0;34m,\u001b[0m \u001b[0mupdate\u001b[0m\u001b[0;34m.\u001b[0m\u001b[0mdtype\u001b[0m\u001b[0;34m)\u001b[0m\u001b[0;34m\u001b[0m\u001b[0;34m\u001b[0m\u001b[0m\n",
            "\u001b[0;32m/tensorflow-2.0.0/python3.6/tensorflow_core/python/util/dispatch.py\u001b[0m in \u001b[0;36mwrapper\u001b[0;34m(*args, **kwargs)\u001b[0m\n\u001b[1;32m    178\u001b[0m     \u001b[0;34m\"\"\"Call target, and fall back on dispatchers if there is a TypeError.\"\"\"\u001b[0m\u001b[0;34m\u001b[0m\u001b[0;34m\u001b[0m\u001b[0m\n\u001b[1;32m    179\u001b[0m     \u001b[0;32mtry\u001b[0m\u001b[0;34m:\u001b[0m\u001b[0;34m\u001b[0m\u001b[0;34m\u001b[0m\u001b[0m\n\u001b[0;32m--> 180\u001b[0;31m       \u001b[0;32mreturn\u001b[0m \u001b[0mtarget\u001b[0m\u001b[0;34m(\u001b[0m\u001b[0;34m*\u001b[0m\u001b[0margs\u001b[0m\u001b[0;34m,\u001b[0m \u001b[0;34m**\u001b[0m\u001b[0mkwargs\u001b[0m\u001b[0;34m)\u001b[0m\u001b[0;34m\u001b[0m\u001b[0;34m\u001b[0m\u001b[0m\n\u001b[0m\u001b[1;32m    181\u001b[0m     \u001b[0;32mexcept\u001b[0m \u001b[0;34m(\u001b[0m\u001b[0mTypeError\u001b[0m\u001b[0;34m,\u001b[0m \u001b[0mValueError\u001b[0m\u001b[0;34m)\u001b[0m\u001b[0;34m:\u001b[0m\u001b[0;34m\u001b[0m\u001b[0;34m\u001b[0m\u001b[0m\n\u001b[1;32m    182\u001b[0m       \u001b[0;31m# Note: convert_to_eager_tensor currently raises a ValueError, not a\u001b[0m\u001b[0;34m\u001b[0m\u001b[0;34m\u001b[0m\u001b[0;34m\u001b[0m\u001b[0m\n",
            "\u001b[0;32m/tensorflow-2.0.0/python3.6/tensorflow_core/python/ops/math_ops.py\u001b[0m in \u001b[0;36mcast\u001b[0;34m(x, dtype, name)\u001b[0m\n\u001b[1;32m    702\u001b[0m       \u001b[0mx\u001b[0m \u001b[0;34m=\u001b[0m \u001b[0mops\u001b[0m\u001b[0;34m.\u001b[0m\u001b[0mconvert_to_tensor\u001b[0m\u001b[0;34m(\u001b[0m\u001b[0mx\u001b[0m\u001b[0;34m,\u001b[0m \u001b[0mname\u001b[0m\u001b[0;34m=\u001b[0m\u001b[0;34m\"x\"\u001b[0m\u001b[0;34m)\u001b[0m\u001b[0;34m\u001b[0m\u001b[0;34m\u001b[0m\u001b[0m\n\u001b[1;32m    703\u001b[0m       \u001b[0;32mif\u001b[0m \u001b[0mx\u001b[0m\u001b[0;34m.\u001b[0m\u001b[0mdtype\u001b[0m\u001b[0;34m.\u001b[0m\u001b[0mbase_dtype\u001b[0m \u001b[0;34m!=\u001b[0m \u001b[0mbase_type\u001b[0m\u001b[0;34m:\u001b[0m\u001b[0;34m\u001b[0m\u001b[0;34m\u001b[0m\u001b[0m\n\u001b[0;32m--> 704\u001b[0;31m         \u001b[0mx\u001b[0m \u001b[0;34m=\u001b[0m \u001b[0mgen_math_ops\u001b[0m\u001b[0;34m.\u001b[0m\u001b[0mcast\u001b[0m\u001b[0;34m(\u001b[0m\u001b[0mx\u001b[0m\u001b[0;34m,\u001b[0m \u001b[0mbase_type\u001b[0m\u001b[0;34m,\u001b[0m \u001b[0mname\u001b[0m\u001b[0;34m=\u001b[0m\u001b[0mname\u001b[0m\u001b[0;34m)\u001b[0m\u001b[0;34m\u001b[0m\u001b[0;34m\u001b[0m\u001b[0m\n\u001b[0m\u001b[1;32m    705\u001b[0m     \u001b[0;32mif\u001b[0m \u001b[0mx\u001b[0m\u001b[0;34m.\u001b[0m\u001b[0mdtype\u001b[0m\u001b[0;34m.\u001b[0m\u001b[0mis_complex\u001b[0m \u001b[0;32mand\u001b[0m \u001b[0mbase_type\u001b[0m\u001b[0;34m.\u001b[0m\u001b[0mis_floating\u001b[0m\u001b[0;34m:\u001b[0m\u001b[0;34m\u001b[0m\u001b[0;34m\u001b[0m\u001b[0m\n\u001b[1;32m    706\u001b[0m       \u001b[0mlogging\u001b[0m\u001b[0;34m.\u001b[0m\u001b[0mwarn\u001b[0m\u001b[0;34m(\u001b[0m\u001b[0;34m\"Casting complex to real discards imaginary part.\"\u001b[0m\u001b[0;34m)\u001b[0m\u001b[0;34m\u001b[0m\u001b[0;34m\u001b[0m\u001b[0m\n",
            "\u001b[0;32m/tensorflow-2.0.0/python3.6/tensorflow_core/python/ops/gen_math_ops.py\u001b[0m in \u001b[0;36mcast\u001b[0;34m(x, DstT, Truncate, name)\u001b[0m\n\u001b[1;32m   2197\u001b[0m         \u001b[0m_ctx\u001b[0m\u001b[0;34m.\u001b[0m\u001b[0m_context_handle\u001b[0m\u001b[0;34m,\u001b[0m \u001b[0m_ctx\u001b[0m\u001b[0;34m.\u001b[0m\u001b[0m_thread_local_data\u001b[0m\u001b[0;34m.\u001b[0m\u001b[0mdevice_name\u001b[0m\u001b[0;34m,\u001b[0m \u001b[0;34m\"Cast\"\u001b[0m\u001b[0;34m,\u001b[0m\u001b[0;34m\u001b[0m\u001b[0;34m\u001b[0m\u001b[0m\n\u001b[1;32m   2198\u001b[0m         \u001b[0mname\u001b[0m\u001b[0;34m,\u001b[0m \u001b[0m_ctx\u001b[0m\u001b[0;34m.\u001b[0m\u001b[0m_post_execution_callbacks\u001b[0m\u001b[0;34m,\u001b[0m \u001b[0mx\u001b[0m\u001b[0;34m,\u001b[0m \u001b[0;34m\"DstT\"\u001b[0m\u001b[0;34m,\u001b[0m \u001b[0mDstT\u001b[0m\u001b[0;34m,\u001b[0m \u001b[0;34m\"Truncate\"\u001b[0m\u001b[0;34m,\u001b[0m\u001b[0;34m\u001b[0m\u001b[0;34m\u001b[0m\u001b[0m\n\u001b[0;32m-> 2199\u001b[0;31m         Truncate)\n\u001b[0m\u001b[1;32m   2200\u001b[0m       \u001b[0;32mreturn\u001b[0m \u001b[0m_result\u001b[0m\u001b[0;34m\u001b[0m\u001b[0;34m\u001b[0m\u001b[0m\n\u001b[1;32m   2201\u001b[0m     \u001b[0;32mexcept\u001b[0m \u001b[0m_core\u001b[0m\u001b[0;34m.\u001b[0m\u001b[0m_FallbackException\u001b[0m\u001b[0;34m:\u001b[0m\u001b[0;34m\u001b[0m\u001b[0;34m\u001b[0m\u001b[0m\n",
            "\u001b[0;31mKeyboardInterrupt\u001b[0m: "
          ]
        }
      ]
    },
    {
      "cell_type": "code",
      "metadata": {
        "id": "M28tNQSc0yiB",
        "colab_type": "code",
        "colab": {}
      },
      "source": [
        "print(estimate_kl((1000, 1)))"
      ],
      "execution_count": 0,
      "outputs": []
    },
    {
      "cell_type": "markdown",
      "metadata": {
        "id": "mxGpxU7tk9Cm",
        "colab_type": "text"
      },
      "source": [
        "## Smoothness measure"
      ]
    },
    {
      "cell_type": "code",
      "metadata": {
        "id": "Sfbo7dH86C6l",
        "colab_type": "code",
        "colab": {}
      },
      "source": [
        "x = np.linspace(-5, 5, 1000)\n",
        "y = polinomial_transformation(x)"
      ],
      "execution_count": 0,
      "outputs": []
    },
    {
      "cell_type": "code",
      "metadata": {
        "id": "ckBGVURVlEZS",
        "colab_type": "code",
        "colab": {}
      },
      "source": [
        "coef = np.fft.rfft(y)\n",
        "# Remove the negative ones.\n",
        "freqs = np.fft.fftfreq(len(x))[: (len(coef)-1)]"
      ],
      "execution_count": 0,
      "outputs": []
    },
    {
      "cell_type": "code",
      "metadata": {
        "id": "fOXMNPT6uvmN",
        "colab_type": "code",
        "outputId": "fb981096-4f56-4c28-fdd7-873302c26693",
        "colab": {
          "base_uri": "https://localhost:8080/",
          "height": 1000
        }
      },
      "source": [
        "coef = np.expand_dims(coef, 1)\n",
        "np.linalg.norm(coef, axis=1)"
      ],
      "execution_count": 0,
      "outputs": [
        {
          "output_type": "execute_result",
          "data": {
            "text/plain": [
              "array([1283.73461635,  322.52504951,  394.81137993,  332.41568841,\n",
              "        269.71690578,  223.64544521,  190.00600942,  164.76288737,\n",
              "        145.25562509,  129.78356326,  117.23752337,  106.87222141,\n",
              "         98.17171903,   90.76893729,   84.39624997,   78.85427441,\n",
              "         73.99160128,   69.69128453,   65.86162199,   62.42972794,\n",
              "         59.33696434,   56.53563566,   53.98655942,   51.65725415,\n",
              "         49.52056988,   47.55364031,   45.73707212,   44.05431123,\n",
              "         42.49114266,   41.03529229,   39.67610713,   38.40429668,\n",
              "         37.21172223,   36.09122396,   35.03647829,   34.04187943,\n",
              "         33.10244043,   32.21371022,   31.37170357,   30.57284176,\n",
              "         29.81390211,   29.0919748 ,   28.40442585,   27.74886522,\n",
              "         27.12311921,   26.52520656,   25.95331766,   25.40579629,\n",
              "         24.8811238 ,   24.37790508,   23.89485626,   23.43079386,\n",
              "         22.98462517,   22.55533969,   22.1420016 ,   21.74374291,\n",
              "         21.35975752,   20.98929572,   20.63165941,   20.28619769,\n",
              "         19.95230297,   19.6294074 ,   19.31697971,   19.01452228,\n",
              "         18.72156853,   18.43768056,   18.16244693,   17.89548075,\n",
              "         17.63641782,   17.38491504,   17.14064888,   16.90331401,\n",
              "         16.67262203,   16.44830033,   16.230091  ,   16.01774988,\n",
              "         15.81104565,   15.60975896,   15.41368173,   15.22261638,\n",
              "         15.03637521,   14.85477978,   14.67766032,   14.50485527,\n",
              "         14.33621073,   14.17158005,   14.01082338,   13.85380729,\n",
              "         13.70040444,   13.55049317,   13.40395725,   13.26068555,\n",
              "         13.12057175,   12.98351412,   12.84941525,   12.71818182,\n",
              "         12.58972441,   12.46395727,   12.34079816,   12.22016815,\n",
              "         12.10199148,   11.98619537,   11.8727099 ,   11.76146788,\n",
              "         11.65240468,   11.54545814,   11.44056845,   11.33767803,\n",
              "         11.23673142,   11.13767521,   11.04045793,   10.94502997,\n",
              "         10.85134347,   10.75935228,   10.66901186,   10.58027924,\n",
              "         10.4931129 ,   10.40747276,   10.32332009,   10.24061748,\n",
              "         10.15932873,   10.07941887,   10.00085406,    9.92360157,\n",
              "          9.84762972,    9.77290785,    9.69940626,    9.62709619,\n",
              "          9.5559498 ,    9.48594008,    9.41704087,    9.34922681,\n",
              "          9.2824733 ,    9.21675649,    9.15205324,    9.08834108,\n",
              "          9.02559823,    8.96380352,    8.90293641,    8.84297694,\n",
              "          8.78390572,    8.72570394,    8.66835327,    8.61183593,\n",
              "          8.55613463,    8.50123254,    8.44711331,    8.39376102,\n",
              "          8.3411602 ,    8.28929578,    8.23815309,    8.18771786,\n",
              "          8.13797619,    8.08891454,    8.04051974,    7.99277894,\n",
              "          7.94567962,    7.89920959,    7.85335698,    7.80811018,\n",
              "          7.76345792,    7.71938916,    7.67589318,    7.63295949,\n",
              "          7.59057787,    7.54873835,    7.5074312 ,    7.46664691,\n",
              "          7.42637621,    7.38661005,    7.34733959,    7.3085562 ,\n",
              "          7.27025145,    7.2324171 ,    7.19504511,    7.1581276 ,\n",
              "          7.12165691,    7.08562552,    7.0500261 ,    7.01485146,\n",
              "          6.9800946 ,    6.94574865,    6.9118069 ,    6.8782628 ,\n",
              "          6.84510992,    6.812342  ,    6.77995287,    6.74793654,\n",
              "          6.71628711,    6.68499884,    6.65406608,    6.62348331,\n",
              "          6.59324513,    6.56334626,    6.53378151,    6.50454581,\n",
              "          6.47563418,    6.44704176,    6.41876378,    6.39079556,\n",
              "          6.36313253,    6.33577019,    6.30870416,    6.28193011,\n",
              "          6.25544382,    6.22924114,    6.20331802,    6.17767047,\n",
              "          6.15229458,    6.12718652,    6.10234254,    6.07775894,\n",
              "          6.05343211,    6.0293585 ,    6.00553464,    5.9819571 ,\n",
              "          5.95862253,    5.93552765,    5.91266922,    5.89004407,\n",
              "          5.8676491 ,    5.84548124,    5.8235375 ,    5.80181494,\n",
              "          5.78031065,    5.75902181,    5.73794562,    5.71707934,\n",
              "          5.69642028,    5.6759658 ,    5.65571329,    5.63566022,\n",
              "          5.61580406,    5.59614237,    5.5766727 ,    5.5573927 ,\n",
              "          5.53830001,    5.51939233,    5.50066742,    5.48212304,\n",
              "          5.46375702,    5.4455672 ,    5.42755148,    5.40970778,\n",
              "          5.39203406,    5.3745283 ,    5.35718854,    5.34001284,\n",
              "          5.32299927,    5.30614598,    5.2894511 ,    5.27291281,\n",
              "          5.25652934,    5.24029891,    5.2242198 ,    5.2082903 ,\n",
              "          5.19250873,    5.17687345,    5.16138283,    5.14603527,\n",
              "          5.13082919,    5.11576305,    5.10083532,    5.0860445 ,\n",
              "          5.07138912,    5.05686771,    5.04247884,    5.02822111,\n",
              "          5.01409312,    5.00009351,    4.98622092,    4.97247404,\n",
              "          4.95885155,    4.94535216,    4.93197461,    4.91871766,\n",
              "          4.90558006,    4.89256061,    4.87965811,    4.86687139,\n",
              "          4.85419929,    4.84164066,    4.82919438,    4.81685934,\n",
              "          4.80463445,    4.79251864,    4.78051083,    4.76860999,\n",
              "          4.75681508,    4.74512509,    4.73353901,    4.72205586,\n",
              "          4.71067467,    4.69939448,    4.68821433,    4.67713331,\n",
              "          4.66615048,    4.65526495,    4.64447581,    4.6337822 ,\n",
              "          4.62318324,    4.61267807,    4.60226585,    4.59194575,\n",
              "          4.58171694,    4.57157861,    4.56152998,    4.55157024,\n",
              "          4.54169863,    4.53191437,    4.52221671,    4.5126049 ,\n",
              "          4.50307822,    4.49363592,    4.48427731,    4.47500166,\n",
              "          4.4658083 ,    4.45669652,    4.44766565,    4.43871503,\n",
              "          4.42984398,    4.42105187,    4.41233805,    4.40370189,\n",
              "          4.39514276,    4.38666004,    4.37825313,    4.36992143,\n",
              "          4.36166434,    4.35348128,    4.34537167,    4.33733494,\n",
              "          4.32937054,    4.3214779 ,    4.31365648,    4.30590573,\n",
              "          4.29822514,    4.29061416,    4.28307229,    4.27559901,\n",
              "          4.26819381,    4.26085619,    4.25358567,    4.24638175,\n",
              "          4.23924396,    4.23217182,    4.22516487,    4.21822265,\n",
              "          4.21134469,    4.20453056,    4.1977798 ,    4.19109198,\n",
              "          4.18446667,    4.17790343,    4.17140186,    4.16496154,\n",
              "          4.15858204,    4.15226298,    4.14600395,    4.13980455,\n",
              "          4.1336644 ,    4.12758311,    4.12156031,    4.11559561,\n",
              "          4.10968866,    4.10383908,    4.09804651,    4.09231061,\n",
              "          4.08663101,    4.08100738,    4.07543937,    4.06992665,\n",
              "          4.06446887,    4.05906573,    4.05371688,    4.04842201,\n",
              "          4.04318081,    4.03799296,    4.03285815,    4.02777609,\n",
              "          4.02274648,    4.01776901,    4.0128434 ,    4.00796936,\n",
              "          4.0031466 ,    3.99837485,    3.99365383,    3.98898326,\n",
              "          3.98436289,    3.97979243,    3.97527164,    3.97080025,\n",
              "          3.96637801,    3.96200467,    3.95767998,    3.95340369,\n",
              "          3.94917557,    3.94499537,    3.94086287,    3.93677783,\n",
              "          3.93274002,    3.92874921,    3.9248052 ,    3.92090775,\n",
              "          3.91705666,    3.91325171,    3.90949268,    3.90577939,\n",
              "          3.90211161,    3.89848916,    3.89491183,    3.89137942,\n",
              "          3.88789176,    3.88444864,    3.88104989,    3.87769531,\n",
              "          3.87438474,    3.87111798,    3.86789487,    3.86471523,\n",
              "          3.86157889,    3.85848569,    3.85543547,    3.85242805,\n",
              "          3.84946328,    3.846541  ,    3.84366106,    3.84082331,\n",
              "          3.8380276 ,    3.83527378,    3.8325617 ,    3.82989123,\n",
              "          3.82726222,    3.82467455,    3.82212806,    3.81962264,\n",
              "          3.81715814,    3.81473445,    3.81235143,    3.81000897,\n",
              "          3.80770694,    3.80544523,    3.80322371,    3.80104228,\n",
              "          3.79890082,    3.79679922,    3.79473738,    3.79271519,\n",
              "          3.79073254,    3.78878933,    3.78688548,    3.78502087,\n",
              "          3.78319541,    3.78140902,    3.7796616 ,    3.77795306,\n",
              "          3.77628332,    3.77465229,    3.77305989,    3.77150604,\n",
              "          3.76999066,    3.76851367,    3.76707501,    3.76567459,\n",
              "          3.76431235,    3.76298823,    3.76170214,    3.76045404,\n",
              "          3.75924385,    3.75807151,    3.75693698,    3.75584018,\n",
              "          3.75478108,    3.7537596 ,    3.75277571,    3.75182935,\n",
              "          3.75092048,    3.75004905,    3.74921502,    3.74841835,\n",
              "          3.74765899,    3.74693692,    3.74625208,    3.74560446,\n",
              "          3.74499402,    3.74442072,    3.74388454,    3.74338546,\n",
              "          3.74292344,    3.74249847,    3.74211052,    3.74175958,\n",
              "          3.74144562,    3.74116864,    3.74092862,    3.74072554,\n",
              "          3.7405594 ,    3.74043019,    3.7403379 ,    3.74028253,\n",
              "          3.74026407])"
            ]
          },
          "metadata": {
            "tags": []
          },
          "execution_count": 232
        }
      ]
    },
    {
      "cell_type": "code",
      "metadata": {
        "id": "4bEJsLL3v-w5",
        "colab_type": "code",
        "colab": {}
      },
      "source": [
        ""
      ],
      "execution_count": 0,
      "outputs": []
    }
  ]
}